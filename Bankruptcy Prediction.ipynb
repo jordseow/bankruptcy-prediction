{
 "cells": [
  {
   "cell_type": "markdown",
   "metadata": {},
   "source": [
    "# Predicting Bankruptcy"
   ]
  },
  {
   "cell_type": "markdown",
   "metadata": {},
   "source": [
    "#### Done by: Jordan Seow Hua Jun"
   ]
  },
  {
   "cell_type": "markdown",
   "metadata": {},
   "source": [
    "## Contents\n",
    "\n",
    "### [Section 1](#1)\n",
    "- 1.1 Calculate Altman Z-Score\n",
    "- 1.2 Classify Bankruptcy\n",
    "\n",
    "### [Section 2](#2)\n",
    "- 2.1 Logistic Regression: Cross-Validation\n",
    "- 2.2 CART Decision Tree: Cross-Validation\n",
    "- 2.3 XGBoost: Cross-Validation\n",
    "- 2.4 Evaluation\n",
    "\n",
    "### [Section 3](#3)\n",
    "- 3.1 SMOTE (Oversampling)\n",
    "- 3.2 SMOTE (Oversampling) + Edited Nearest Neighbours (Undersampling)\n",
    "- 3.3 Over-Weighting Minority Class\n",
    "- 3.4 Evaluation\n",
    "\n",
    "### [Section 4](#4)\n",
    "- 4.1 Data Preprocessing\n",
    "- 4.2 Narrowing Hyperparameter Search Space with RandomizedSearch\n",
    "- 4.3 Use Hyperopt to Find Best Hyperparameters\n",
    "- 4.4 Evaluation\n",
    "- 4.5 Prediction on Test Dataset\n",
    "\n",
    "### [Section 5](#5)\n",
    "- 5.1 Best Model's Top 10 Features\n",
    "- 5.2 Evaluation of Features\n"
   ]
  },
  {
   "cell_type": "markdown",
   "metadata": {},
   "source": [
    "### Import Packages"
   ]
  },
  {
   "cell_type": "code",
   "execution_count": 1,
   "metadata": {},
   "outputs": [],
   "source": [
    "import pandas as pd\n",
    "import numpy as np\n",
    "import matplotlib.pyplot as plt\n",
    "import seaborn as sns\n",
    "from scipy import stats\n",
    "\n",
    "from sklearn.metrics import classification_report, confusion_matrix, f1_score, roc_auc_score, roc_curve\n",
    "from sklearn.model_selection import StratifiedKFold, KFold, RandomizedSearchCV, cross_val_score, train_test_split\n",
    "\n",
    "from sklearn.linear_model import LogisticRegression\n",
    "from sklearn.tree import DecisionTreeClassifier\n",
    "from xgboost import XGBClassifier\n",
    "import xgboost as xgb\n",
    "\n",
    "from imblearn.over_sampling import SMOTE\n",
    "from imblearn.under_sampling import EditedNearestNeighbours\n",
    "from imblearn.combine import SMOTEENN\n",
    "\n",
    "from copy import deepcopy\n",
    "from sklearn.preprocessing import LabelEncoder\n",
    "\n",
    "from time import time\n",
    "from tqdm import tqdm\n",
    "import os, pickle\n",
    "\n",
    "from hyperopt import fmin, tpe, hp, STATUS_OK, Trials\n",
    "from hyperopt.pyll import scope\n",
    "\n",
    "pd.options.display.max_colwidth=2000\n",
    "pd.options.display.max_columns=None"
   ]
  },
  {
   "cell_type": "markdown",
   "metadata": {},
   "source": [
    "### Random State"
   ]
  },
  {
   "cell_type": "code",
   "execution_count": 2,
   "metadata": {},
   "outputs": [],
   "source": [
    "SEED = 1"
   ]
  },
  {
   "cell_type": "markdown",
   "metadata": {},
   "source": [
    "### Read Train Dataset"
   ]
  },
  {
   "cell_type": "code",
   "execution_count": 3,
   "metadata": {},
   "outputs": [],
   "source": [
    "train = pd.read_csv('train.csv')"
   ]
  },
  {
   "cell_type": "code",
   "execution_count": 4,
   "metadata": {},
   "outputs": [
    {
     "data": {
      "text/html": [
       "<div>\n",
       "<style scoped>\n",
       "    .dataframe tbody tr th:only-of-type {\n",
       "        vertical-align: middle;\n",
       "    }\n",
       "\n",
       "    .dataframe tbody tr th {\n",
       "        vertical-align: top;\n",
       "    }\n",
       "\n",
       "    .dataframe thead th {\n",
       "        text-align: right;\n",
       "    }\n",
       "</style>\n",
       "<table border=\"1\" class=\"dataframe\">\n",
       "  <thead>\n",
       "    <tr style=\"text-align: right;\">\n",
       "      <th></th>\n",
       "      <th>gvkey</th>\n",
       "      <th>datadate</th>\n",
       "      <th>conm</th>\n",
       "      <th>at</th>\n",
       "      <th>cogs</th>\n",
       "      <th>csho</th>\n",
       "      <th>dvp</th>\n",
       "      <th>ebit</th>\n",
       "      <th>gp</th>\n",
       "      <th>ib</th>\n",
       "      <th>lct</th>\n",
       "      <th>lt</th>\n",
       "      <th>ni</th>\n",
       "      <th>niadj</th>\n",
       "      <th>oiadp</th>\n",
       "      <th>pi</th>\n",
       "      <th>re</th>\n",
       "      <th>revt</th>\n",
       "      <th>sale</th>\n",
       "      <th>wcap</th>\n",
       "      <th>xido</th>\n",
       "      <th>xopr</th>\n",
       "      <th>mkvalt</th>\n",
       "      <th>sic</th>\n",
       "      <th>bankrupt</th>\n",
       "      <th>Altman_X1</th>\n",
       "      <th>Altman_X2</th>\n",
       "      <th>Altman_X3</th>\n",
       "      <th>Altman_X4</th>\n",
       "      <th>Altman_X5</th>\n",
       "    </tr>\n",
       "  </thead>\n",
       "  <tbody>\n",
       "    <tr>\n",
       "      <th>0</th>\n",
       "      <td>1240</td>\n",
       "      <td>2002-01-31</td>\n",
       "      <td>ALBERTSON'S INC</td>\n",
       "      <td>15967.000</td>\n",
       "      <td>26094.000</td>\n",
       "      <td>407.000</td>\n",
       "      <td>0.0</td>\n",
       "      <td>1787.000</td>\n",
       "      <td>11837.000</td>\n",
       "      <td>501.000</td>\n",
       "      <td>3582.000</td>\n",
       "      <td>10052.000</td>\n",
       "      <td>501.000</td>\n",
       "      <td>501.000</td>\n",
       "      <td>1787.000</td>\n",
       "      <td>873.000</td>\n",
       "      <td>5414.000</td>\n",
       "      <td>37931.000</td>\n",
       "      <td>37931.000</td>\n",
       "      <td>1027.000</td>\n",
       "      <td>0.000</td>\n",
       "      <td>35118.000</td>\n",
       "      <td>11701.2500</td>\n",
       "      <td>5411.0</td>\n",
       "      <td>0</td>\n",
       "      <td>0.064320</td>\n",
       "      <td>0.339074</td>\n",
       "      <td>0.111918</td>\n",
       "      <td>1.164072</td>\n",
       "      <td>2.375587</td>\n",
       "    </tr>\n",
       "    <tr>\n",
       "      <th>1</th>\n",
       "      <td>1655</td>\n",
       "      <td>2002-01-31</td>\n",
       "      <td>ANGELICA CORP</td>\n",
       "      <td>290.865</td>\n",
       "      <td>246.466</td>\n",
       "      <td>8.608</td>\n",
       "      <td>0.0</td>\n",
       "      <td>12.856</td>\n",
       "      <td>103.597</td>\n",
       "      <td>1.629</td>\n",
       "      <td>133.169</td>\n",
       "      <td>149.361</td>\n",
       "      <td>-22.709</td>\n",
       "      <td>-22.709</td>\n",
       "      <td>12.856</td>\n",
       "      <td>1.790</td>\n",
       "      <td>142.188</td>\n",
       "      <td>350.063</td>\n",
       "      <td>350.063</td>\n",
       "      <td>46.960</td>\n",
       "      <td>-24.338</td>\n",
       "      <td>326.107</td>\n",
       "      <td>101.5744</td>\n",
       "      <td>7200.0</td>\n",
       "      <td>0</td>\n",
       "      <td>0.161449</td>\n",
       "      <td>0.488845</td>\n",
       "      <td>0.044199</td>\n",
       "      <td>0.680060</td>\n",
       "      <td>1.203524</td>\n",
       "    </tr>\n",
       "    <tr>\n",
       "      <th>2</th>\n",
       "      <td>1864</td>\n",
       "      <td>2002-01-31</td>\n",
       "      <td>REX AMERICAN RESOURCES CORP</td>\n",
       "      <td>307.329</td>\n",
       "      <td>325.912</td>\n",
       "      <td>8.163</td>\n",
       "      <td>0.0</td>\n",
       "      <td>22.236</td>\n",
       "      <td>138.591</td>\n",
       "      <td>22.554</td>\n",
       "      <td>66.035</td>\n",
       "      <td>159.356</td>\n",
       "      <td>22.309</td>\n",
       "      <td>22.309</td>\n",
       "      <td>22.236</td>\n",
       "      <td>30.007</td>\n",
       "      <td>134.708</td>\n",
       "      <td>464.503</td>\n",
       "      <td>464.503</td>\n",
       "      <td>92.256</td>\n",
       "      <td>-0.245</td>\n",
       "      <td>438.069</td>\n",
       "      <td>240.4004</td>\n",
       "      <td>2860.0</td>\n",
       "      <td>0</td>\n",
       "      <td>0.300186</td>\n",
       "      <td>0.438319</td>\n",
       "      <td>0.072352</td>\n",
       "      <td>1.508575</td>\n",
       "      <td>1.511419</td>\n",
       "    </tr>\n",
       "    <tr>\n",
       "      <th>3</th>\n",
       "      <td>1878</td>\n",
       "      <td>2002-01-31</td>\n",
       "      <td>AUTODESK INC</td>\n",
       "      <td>902.444</td>\n",
       "      <td>124.903</td>\n",
       "      <td>55.644</td>\n",
       "      <td>0.0</td>\n",
       "      <td>131.804</td>\n",
       "      <td>822.588</td>\n",
       "      <td>90.313</td>\n",
       "      <td>370.651</td>\n",
       "      <td>373.130</td>\n",
       "      <td>90.313</td>\n",
       "      <td>90.313</td>\n",
       "      <td>131.804</td>\n",
       "      <td>125.482</td>\n",
       "      <td>71.892</td>\n",
       "      <td>947.491</td>\n",
       "      <td>947.491</td>\n",
       "      <td>193.219</td>\n",
       "      <td>0.000</td>\n",
       "      <td>768.484</td>\n",
       "      <td>2281.4040</td>\n",
       "      <td>7370.0</td>\n",
       "      <td>0</td>\n",
       "      <td>0.214106</td>\n",
       "      <td>0.079664</td>\n",
       "      <td>0.146052</td>\n",
       "      <td>6.114234</td>\n",
       "      <td>1.049917</td>\n",
       "    </tr>\n",
       "    <tr>\n",
       "      <th>4</th>\n",
       "      <td>2436</td>\n",
       "      <td>2002-01-31</td>\n",
       "      <td>CALERES INC</td>\n",
       "      <td>700.898</td>\n",
       "      <td>1044.110</td>\n",
       "      <td>17.484</td>\n",
       "      <td>0.0</td>\n",
       "      <td>54.842</td>\n",
       "      <td>711.738</td>\n",
       "      <td>0.949</td>\n",
       "      <td>301.453</td>\n",
       "      <td>444.242</td>\n",
       "      <td>-3.962</td>\n",
       "      <td>-3.962</td>\n",
       "      <td>54.842</td>\n",
       "      <td>-5.675</td>\n",
       "      <td>145.053</td>\n",
       "      <td>1755.848</td>\n",
       "      <td>1755.848</td>\n",
       "      <td>225.457</td>\n",
       "      <td>-4.911</td>\n",
       "      <td>1674.299</td>\n",
       "      <td>278.6950</td>\n",
       "      <td>3140.0</td>\n",
       "      <td>0</td>\n",
       "      <td>0.321669</td>\n",
       "      <td>0.206953</td>\n",
       "      <td>0.078245</td>\n",
       "      <td>0.627350</td>\n",
       "      <td>2.505141</td>\n",
       "    </tr>\n",
       "  </tbody>\n",
       "</table>\n",
       "</div>"
      ],
      "text/plain": [
       "   gvkey    datadate                         conm         at       cogs  \\\n",
       "0   1240  2002-01-31              ALBERTSON'S INC  15967.000  26094.000   \n",
       "1   1655  2002-01-31                ANGELICA CORP    290.865    246.466   \n",
       "2   1864  2002-01-31  REX AMERICAN RESOURCES CORP    307.329    325.912   \n",
       "3   1878  2002-01-31                 AUTODESK INC    902.444    124.903   \n",
       "4   2436  2002-01-31                  CALERES INC    700.898   1044.110   \n",
       "\n",
       "      csho  dvp      ebit         gp       ib       lct         lt       ni  \\\n",
       "0  407.000  0.0  1787.000  11837.000  501.000  3582.000  10052.000  501.000   \n",
       "1    8.608  0.0    12.856    103.597    1.629   133.169    149.361  -22.709   \n",
       "2    8.163  0.0    22.236    138.591   22.554    66.035    159.356   22.309   \n",
       "3   55.644  0.0   131.804    822.588   90.313   370.651    373.130   90.313   \n",
       "4   17.484  0.0    54.842    711.738    0.949   301.453    444.242   -3.962   \n",
       "\n",
       "     niadj     oiadp       pi        re       revt       sale      wcap  \\\n",
       "0  501.000  1787.000  873.000  5414.000  37931.000  37931.000  1027.000   \n",
       "1  -22.709    12.856    1.790   142.188    350.063    350.063    46.960   \n",
       "2   22.309    22.236   30.007   134.708    464.503    464.503    92.256   \n",
       "3   90.313   131.804  125.482    71.892    947.491    947.491   193.219   \n",
       "4   -3.962    54.842   -5.675   145.053   1755.848   1755.848   225.457   \n",
       "\n",
       "     xido       xopr      mkvalt     sic  bankrupt  Altman_X1  Altman_X2  \\\n",
       "0   0.000  35118.000  11701.2500  5411.0         0   0.064320   0.339074   \n",
       "1 -24.338    326.107    101.5744  7200.0         0   0.161449   0.488845   \n",
       "2  -0.245    438.069    240.4004  2860.0         0   0.300186   0.438319   \n",
       "3   0.000    768.484   2281.4040  7370.0         0   0.214106   0.079664   \n",
       "4  -4.911   1674.299    278.6950  3140.0         0   0.321669   0.206953   \n",
       "\n",
       "   Altman_X3  Altman_X4  Altman_X5  \n",
       "0   0.111918   1.164072   2.375587  \n",
       "1   0.044199   0.680060   1.203524  \n",
       "2   0.072352   1.508575   1.511419  \n",
       "3   0.146052   6.114234   1.049917  \n",
       "4   0.078245   0.627350   2.505141  "
      ]
     },
     "execution_count": 4,
     "metadata": {},
     "output_type": "execute_result"
    }
   ],
   "source": [
    "train.head()"
   ]
  },
  {
   "cell_type": "markdown",
   "metadata": {},
   "source": [
    "### Data Preprocessing"
   ]
  },
  {
   "cell_type": "code",
   "execution_count": 5,
   "metadata": {
    "scrolled": true
   },
   "outputs": [
    {
     "data": {
      "text/html": [
       "<div>\n",
       "<style scoped>\n",
       "    .dataframe tbody tr th:only-of-type {\n",
       "        vertical-align: middle;\n",
       "    }\n",
       "\n",
       "    .dataframe tbody tr th {\n",
       "        vertical-align: top;\n",
       "    }\n",
       "\n",
       "    .dataframe thead th {\n",
       "        text-align: right;\n",
       "    }\n",
       "</style>\n",
       "<table border=\"1\" class=\"dataframe\">\n",
       "  <thead>\n",
       "    <tr style=\"text-align: right;\">\n",
       "      <th></th>\n",
       "      <th>Data Type</th>\n",
       "    </tr>\n",
       "  </thead>\n",
       "  <tbody>\n",
       "    <tr>\n",
       "      <th>gvkey</th>\n",
       "      <td>int64</td>\n",
       "    </tr>\n",
       "    <tr>\n",
       "      <th>datadate</th>\n",
       "      <td>object</td>\n",
       "    </tr>\n",
       "    <tr>\n",
       "      <th>conm</th>\n",
       "      <td>object</td>\n",
       "    </tr>\n",
       "    <tr>\n",
       "      <th>at</th>\n",
       "      <td>float64</td>\n",
       "    </tr>\n",
       "    <tr>\n",
       "      <th>cogs</th>\n",
       "      <td>float64</td>\n",
       "    </tr>\n",
       "    <tr>\n",
       "      <th>csho</th>\n",
       "      <td>float64</td>\n",
       "    </tr>\n",
       "    <tr>\n",
       "      <th>dvp</th>\n",
       "      <td>float64</td>\n",
       "    </tr>\n",
       "    <tr>\n",
       "      <th>ebit</th>\n",
       "      <td>float64</td>\n",
       "    </tr>\n",
       "    <tr>\n",
       "      <th>gp</th>\n",
       "      <td>float64</td>\n",
       "    </tr>\n",
       "    <tr>\n",
       "      <th>ib</th>\n",
       "      <td>float64</td>\n",
       "    </tr>\n",
       "    <tr>\n",
       "      <th>lct</th>\n",
       "      <td>float64</td>\n",
       "    </tr>\n",
       "    <tr>\n",
       "      <th>lt</th>\n",
       "      <td>float64</td>\n",
       "    </tr>\n",
       "    <tr>\n",
       "      <th>ni</th>\n",
       "      <td>float64</td>\n",
       "    </tr>\n",
       "    <tr>\n",
       "      <th>niadj</th>\n",
       "      <td>float64</td>\n",
       "    </tr>\n",
       "    <tr>\n",
       "      <th>oiadp</th>\n",
       "      <td>float64</td>\n",
       "    </tr>\n",
       "    <tr>\n",
       "      <th>pi</th>\n",
       "      <td>float64</td>\n",
       "    </tr>\n",
       "    <tr>\n",
       "      <th>re</th>\n",
       "      <td>float64</td>\n",
       "    </tr>\n",
       "    <tr>\n",
       "      <th>revt</th>\n",
       "      <td>float64</td>\n",
       "    </tr>\n",
       "    <tr>\n",
       "      <th>sale</th>\n",
       "      <td>float64</td>\n",
       "    </tr>\n",
       "    <tr>\n",
       "      <th>wcap</th>\n",
       "      <td>float64</td>\n",
       "    </tr>\n",
       "    <tr>\n",
       "      <th>xido</th>\n",
       "      <td>float64</td>\n",
       "    </tr>\n",
       "    <tr>\n",
       "      <th>xopr</th>\n",
       "      <td>float64</td>\n",
       "    </tr>\n",
       "    <tr>\n",
       "      <th>mkvalt</th>\n",
       "      <td>float64</td>\n",
       "    </tr>\n",
       "    <tr>\n",
       "      <th>sic</th>\n",
       "      <td>float64</td>\n",
       "    </tr>\n",
       "    <tr>\n",
       "      <th>bankrupt</th>\n",
       "      <td>int64</td>\n",
       "    </tr>\n",
       "    <tr>\n",
       "      <th>Altman_X1</th>\n",
       "      <td>float64</td>\n",
       "    </tr>\n",
       "    <tr>\n",
       "      <th>Altman_X2</th>\n",
       "      <td>float64</td>\n",
       "    </tr>\n",
       "    <tr>\n",
       "      <th>Altman_X3</th>\n",
       "      <td>float64</td>\n",
       "    </tr>\n",
       "    <tr>\n",
       "      <th>Altman_X4</th>\n",
       "      <td>float64</td>\n",
       "    </tr>\n",
       "    <tr>\n",
       "      <th>Altman_X5</th>\n",
       "      <td>float64</td>\n",
       "    </tr>\n",
       "  </tbody>\n",
       "</table>\n",
       "</div>"
      ],
      "text/plain": [
       "          Data Type\n",
       "gvkey         int64\n",
       "datadate     object\n",
       "conm         object\n",
       "at          float64\n",
       "cogs        float64\n",
       "csho        float64\n",
       "dvp         float64\n",
       "ebit        float64\n",
       "gp          float64\n",
       "ib          float64\n",
       "lct         float64\n",
       "lt          float64\n",
       "ni          float64\n",
       "niadj       float64\n",
       "oiadp       float64\n",
       "pi          float64\n",
       "re          float64\n",
       "revt        float64\n",
       "sale        float64\n",
       "wcap        float64\n",
       "xido        float64\n",
       "xopr        float64\n",
       "mkvalt      float64\n",
       "sic         float64\n",
       "bankrupt      int64\n",
       "Altman_X1   float64\n",
       "Altman_X2   float64\n",
       "Altman_X3   float64\n",
       "Altman_X4   float64\n",
       "Altman_X5   float64"
      ]
     },
     "execution_count": 5,
     "metadata": {},
     "output_type": "execute_result"
    }
   ],
   "source": [
    "pd.DataFrame(train.dtypes).rename(columns={0:'Data Type'})"
   ]
  },
  {
   "cell_type": "code",
   "execution_count": 6,
   "metadata": {},
   "outputs": [],
   "source": [
    "train['sic'] = train['sic'].astype('int')\n",
    "train = train.astype({'gvkey': 'category',\n",
    "                      'datadate': 'datetime64[ns]',\n",
    "                      'sic': 'category'})"
   ]
  },
  {
   "cell_type": "code",
   "execution_count": 7,
   "metadata": {
    "scrolled": true
   },
   "outputs": [
    {
     "data": {
      "text/html": [
       "<div>\n",
       "<style scoped>\n",
       "    .dataframe tbody tr th:only-of-type {\n",
       "        vertical-align: middle;\n",
       "    }\n",
       "\n",
       "    .dataframe tbody tr th {\n",
       "        vertical-align: top;\n",
       "    }\n",
       "\n",
       "    .dataframe thead th {\n",
       "        text-align: right;\n",
       "    }\n",
       "</style>\n",
       "<table border=\"1\" class=\"dataframe\">\n",
       "  <thead>\n",
       "    <tr style=\"text-align: right;\">\n",
       "      <th></th>\n",
       "      <th>Data Type</th>\n",
       "    </tr>\n",
       "  </thead>\n",
       "  <tbody>\n",
       "    <tr>\n",
       "      <th>gvkey</th>\n",
       "      <td>category</td>\n",
       "    </tr>\n",
       "    <tr>\n",
       "      <th>datadate</th>\n",
       "      <td>datetime64[ns]</td>\n",
       "    </tr>\n",
       "    <tr>\n",
       "      <th>conm</th>\n",
       "      <td>object</td>\n",
       "    </tr>\n",
       "    <tr>\n",
       "      <th>at</th>\n",
       "      <td>float64</td>\n",
       "    </tr>\n",
       "    <tr>\n",
       "      <th>cogs</th>\n",
       "      <td>float64</td>\n",
       "    </tr>\n",
       "    <tr>\n",
       "      <th>csho</th>\n",
       "      <td>float64</td>\n",
       "    </tr>\n",
       "    <tr>\n",
       "      <th>dvp</th>\n",
       "      <td>float64</td>\n",
       "    </tr>\n",
       "    <tr>\n",
       "      <th>ebit</th>\n",
       "      <td>float64</td>\n",
       "    </tr>\n",
       "    <tr>\n",
       "      <th>gp</th>\n",
       "      <td>float64</td>\n",
       "    </tr>\n",
       "    <tr>\n",
       "      <th>ib</th>\n",
       "      <td>float64</td>\n",
       "    </tr>\n",
       "    <tr>\n",
       "      <th>lct</th>\n",
       "      <td>float64</td>\n",
       "    </tr>\n",
       "    <tr>\n",
       "      <th>lt</th>\n",
       "      <td>float64</td>\n",
       "    </tr>\n",
       "    <tr>\n",
       "      <th>ni</th>\n",
       "      <td>float64</td>\n",
       "    </tr>\n",
       "    <tr>\n",
       "      <th>niadj</th>\n",
       "      <td>float64</td>\n",
       "    </tr>\n",
       "    <tr>\n",
       "      <th>oiadp</th>\n",
       "      <td>float64</td>\n",
       "    </tr>\n",
       "    <tr>\n",
       "      <th>pi</th>\n",
       "      <td>float64</td>\n",
       "    </tr>\n",
       "    <tr>\n",
       "      <th>re</th>\n",
       "      <td>float64</td>\n",
       "    </tr>\n",
       "    <tr>\n",
       "      <th>revt</th>\n",
       "      <td>float64</td>\n",
       "    </tr>\n",
       "    <tr>\n",
       "      <th>sale</th>\n",
       "      <td>float64</td>\n",
       "    </tr>\n",
       "    <tr>\n",
       "      <th>wcap</th>\n",
       "      <td>float64</td>\n",
       "    </tr>\n",
       "    <tr>\n",
       "      <th>xido</th>\n",
       "      <td>float64</td>\n",
       "    </tr>\n",
       "    <tr>\n",
       "      <th>xopr</th>\n",
       "      <td>float64</td>\n",
       "    </tr>\n",
       "    <tr>\n",
       "      <th>mkvalt</th>\n",
       "      <td>float64</td>\n",
       "    </tr>\n",
       "    <tr>\n",
       "      <th>sic</th>\n",
       "      <td>category</td>\n",
       "    </tr>\n",
       "    <tr>\n",
       "      <th>bankrupt</th>\n",
       "      <td>int64</td>\n",
       "    </tr>\n",
       "    <tr>\n",
       "      <th>Altman_X1</th>\n",
       "      <td>float64</td>\n",
       "    </tr>\n",
       "    <tr>\n",
       "      <th>Altman_X2</th>\n",
       "      <td>float64</td>\n",
       "    </tr>\n",
       "    <tr>\n",
       "      <th>Altman_X3</th>\n",
       "      <td>float64</td>\n",
       "    </tr>\n",
       "    <tr>\n",
       "      <th>Altman_X4</th>\n",
       "      <td>float64</td>\n",
       "    </tr>\n",
       "    <tr>\n",
       "      <th>Altman_X5</th>\n",
       "      <td>float64</td>\n",
       "    </tr>\n",
       "  </tbody>\n",
       "</table>\n",
       "</div>"
      ],
      "text/plain": [
       "                Data Type\n",
       "gvkey            category\n",
       "datadate   datetime64[ns]\n",
       "conm               object\n",
       "at                float64\n",
       "cogs              float64\n",
       "csho              float64\n",
       "dvp               float64\n",
       "ebit              float64\n",
       "gp                float64\n",
       "ib                float64\n",
       "lct               float64\n",
       "lt                float64\n",
       "ni                float64\n",
       "niadj             float64\n",
       "oiadp             float64\n",
       "pi                float64\n",
       "re                float64\n",
       "revt              float64\n",
       "sale              float64\n",
       "wcap              float64\n",
       "xido              float64\n",
       "xopr              float64\n",
       "mkvalt            float64\n",
       "sic              category\n",
       "bankrupt            int64\n",
       "Altman_X1         float64\n",
       "Altman_X2         float64\n",
       "Altman_X3         float64\n",
       "Altman_X4         float64\n",
       "Altman_X5         float64"
      ]
     },
     "execution_count": 7,
     "metadata": {},
     "output_type": "execute_result"
    }
   ],
   "source": [
    "pd.DataFrame(train.dtypes).rename(columns={0:'Data Type'})"
   ]
  },
  {
   "cell_type": "markdown",
   "metadata": {},
   "source": [
    "## <a id='1'>Section 1</a>"
   ]
  },
  {
   "cell_type": "code",
   "execution_count": 8,
   "metadata": {},
   "outputs": [],
   "source": [
    "X = train.iloc[:,-5:]\n",
    "y = train.iloc[:, -6]\n",
    "df = pd.concat([X, y], axis=1)"
   ]
  },
  {
   "cell_type": "code",
   "execution_count": 9,
   "metadata": {},
   "outputs": [
    {
     "data": {
      "text/html": [
       "<div>\n",
       "<style scoped>\n",
       "    .dataframe tbody tr th:only-of-type {\n",
       "        vertical-align: middle;\n",
       "    }\n",
       "\n",
       "    .dataframe tbody tr th {\n",
       "        vertical-align: top;\n",
       "    }\n",
       "\n",
       "    .dataframe thead th {\n",
       "        text-align: right;\n",
       "    }\n",
       "</style>\n",
       "<table border=\"1\" class=\"dataframe\">\n",
       "  <thead>\n",
       "    <tr style=\"text-align: right;\">\n",
       "      <th></th>\n",
       "      <th>Altman_X1</th>\n",
       "      <th>Altman_X2</th>\n",
       "      <th>Altman_X3</th>\n",
       "      <th>Altman_X4</th>\n",
       "      <th>Altman_X5</th>\n",
       "      <th>bankrupt</th>\n",
       "    </tr>\n",
       "  </thead>\n",
       "  <tbody>\n",
       "    <tr>\n",
       "      <th>0</th>\n",
       "      <td>0.064320</td>\n",
       "      <td>0.339074</td>\n",
       "      <td>0.111918</td>\n",
       "      <td>1.164072</td>\n",
       "      <td>2.375587</td>\n",
       "      <td>0</td>\n",
       "    </tr>\n",
       "    <tr>\n",
       "      <th>1</th>\n",
       "      <td>0.161449</td>\n",
       "      <td>0.488845</td>\n",
       "      <td>0.044199</td>\n",
       "      <td>0.680060</td>\n",
       "      <td>1.203524</td>\n",
       "      <td>0</td>\n",
       "    </tr>\n",
       "    <tr>\n",
       "      <th>2</th>\n",
       "      <td>0.300186</td>\n",
       "      <td>0.438319</td>\n",
       "      <td>0.072352</td>\n",
       "      <td>1.508575</td>\n",
       "      <td>1.511419</td>\n",
       "      <td>0</td>\n",
       "    </tr>\n",
       "    <tr>\n",
       "      <th>3</th>\n",
       "      <td>0.214106</td>\n",
       "      <td>0.079664</td>\n",
       "      <td>0.146052</td>\n",
       "      <td>6.114234</td>\n",
       "      <td>1.049917</td>\n",
       "      <td>0</td>\n",
       "    </tr>\n",
       "    <tr>\n",
       "      <th>4</th>\n",
       "      <td>0.321669</td>\n",
       "      <td>0.206953</td>\n",
       "      <td>0.078245</td>\n",
       "      <td>0.627350</td>\n",
       "      <td>2.505141</td>\n",
       "      <td>0</td>\n",
       "    </tr>\n",
       "  </tbody>\n",
       "</table>\n",
       "</div>"
      ],
      "text/plain": [
       "   Altman_X1  Altman_X2  Altman_X3  Altman_X4  Altman_X5  bankrupt\n",
       "0   0.064320   0.339074   0.111918   1.164072   2.375587         0\n",
       "1   0.161449   0.488845   0.044199   0.680060   1.203524         0\n",
       "2   0.300186   0.438319   0.072352   1.508575   1.511419         0\n",
       "3   0.214106   0.079664   0.146052   6.114234   1.049917         0\n",
       "4   0.321669   0.206953   0.078245   0.627350   2.505141         0"
      ]
     },
     "execution_count": 9,
     "metadata": {},
     "output_type": "execute_result"
    }
   ],
   "source": [
    "df.head()"
   ]
  },
  {
   "cell_type": "markdown",
   "metadata": {},
   "source": [
    "### 1.1 Calculate Altman Z-Score"
   ]
  },
  {
   "cell_type": "markdown",
   "metadata": {},
   "source": [
    "#### Altman Z-Score = 1.2 * X1 + 1.4 * X2 + 3.3 * X3 + 0.6 * X4 + 1.0 * X5"
   ]
  },
  {
   "cell_type": "code",
   "execution_count": 10,
   "metadata": {},
   "outputs": [],
   "source": [
    "def calculate_altman_z_score(x1, x2, x3, x4, x5):\n",
    "    z_score = 1.2*x1 + 1.4*x2 + 3.3*x3 + 0.6*x4 + 1.0*x5\n",
    "    return z_score"
   ]
  },
  {
   "cell_type": "code",
   "execution_count": 11,
   "metadata": {},
   "outputs": [],
   "source": [
    "df['Altman_Z_Score'] = df.apply(lambda x: calculate_altman_z_score(x['Altman_X1'], \n",
    "                                                                   x['Altman_X2'], \n",
    "                                                                   x['Altman_X3'], \n",
    "                                                                   x['Altman_X4'], \n",
    "                                                                   x['Altman_X5']), \n",
    "                                axis=1)"
   ]
  },
  {
   "cell_type": "code",
   "execution_count": 12,
   "metadata": {},
   "outputs": [
    {
     "data": {
      "text/html": [
       "<div>\n",
       "<style scoped>\n",
       "    .dataframe tbody tr th:only-of-type {\n",
       "        vertical-align: middle;\n",
       "    }\n",
       "\n",
       "    .dataframe tbody tr th {\n",
       "        vertical-align: top;\n",
       "    }\n",
       "\n",
       "    .dataframe thead th {\n",
       "        text-align: right;\n",
       "    }\n",
       "</style>\n",
       "<table border=\"1\" class=\"dataframe\">\n",
       "  <thead>\n",
       "    <tr style=\"text-align: right;\">\n",
       "      <th></th>\n",
       "      <th>Altman_X1</th>\n",
       "      <th>Altman_X2</th>\n",
       "      <th>Altman_X3</th>\n",
       "      <th>Altman_X4</th>\n",
       "      <th>Altman_X5</th>\n",
       "      <th>bankrupt</th>\n",
       "      <th>Altman_Z_Score</th>\n",
       "    </tr>\n",
       "  </thead>\n",
       "  <tbody>\n",
       "    <tr>\n",
       "      <th>0</th>\n",
       "      <td>0.064320</td>\n",
       "      <td>0.339074</td>\n",
       "      <td>0.111918</td>\n",
       "      <td>1.164072</td>\n",
       "      <td>2.375587</td>\n",
       "      <td>0</td>\n",
       "      <td>3.995249</td>\n",
       "    </tr>\n",
       "    <tr>\n",
       "      <th>1</th>\n",
       "      <td>0.161449</td>\n",
       "      <td>0.488845</td>\n",
       "      <td>0.044199</td>\n",
       "      <td>0.680060</td>\n",
       "      <td>1.203524</td>\n",
       "      <td>0</td>\n",
       "      <td>2.635540</td>\n",
       "    </tr>\n",
       "    <tr>\n",
       "      <th>2</th>\n",
       "      <td>0.300186</td>\n",
       "      <td>0.438319</td>\n",
       "      <td>0.072352</td>\n",
       "      <td>1.508575</td>\n",
       "      <td>1.511419</td>\n",
       "      <td>0</td>\n",
       "      <td>3.629197</td>\n",
       "    </tr>\n",
       "    <tr>\n",
       "      <th>3</th>\n",
       "      <td>0.214106</td>\n",
       "      <td>0.079664</td>\n",
       "      <td>0.146052</td>\n",
       "      <td>6.114234</td>\n",
       "      <td>1.049917</td>\n",
       "      <td>0</td>\n",
       "      <td>5.568886</td>\n",
       "    </tr>\n",
       "    <tr>\n",
       "      <th>4</th>\n",
       "      <td>0.321669</td>\n",
       "      <td>0.206953</td>\n",
       "      <td>0.078245</td>\n",
       "      <td>0.627350</td>\n",
       "      <td>2.505141</td>\n",
       "      <td>0</td>\n",
       "      <td>3.815497</td>\n",
       "    </tr>\n",
       "  </tbody>\n",
       "</table>\n",
       "</div>"
      ],
      "text/plain": [
       "   Altman_X1  Altman_X2  Altman_X3  Altman_X4  Altman_X5  bankrupt  \\\n",
       "0   0.064320   0.339074   0.111918   1.164072   2.375587         0   \n",
       "1   0.161449   0.488845   0.044199   0.680060   1.203524         0   \n",
       "2   0.300186   0.438319   0.072352   1.508575   1.511419         0   \n",
       "3   0.214106   0.079664   0.146052   6.114234   1.049917         0   \n",
       "4   0.321669   0.206953   0.078245   0.627350   2.505141         0   \n",
       "\n",
       "   Altman_Z_Score  \n",
       "0        3.995249  \n",
       "1        2.635540  \n",
       "2        3.629197  \n",
       "3        5.568886  \n",
       "4        3.815497  "
      ]
     },
     "execution_count": 12,
     "metadata": {},
     "output_type": "execute_result"
    }
   ],
   "source": [
    "df.head()"
   ]
  },
  {
   "cell_type": "markdown",
   "metadata": {},
   "source": [
    "### 1.2 Classify Bankruptcy"
   ]
  },
  {
   "cell_type": "markdown",
   "metadata": {},
   "source": [
    "#### Classify with Altman Z-Score Cut-Off Value at 2.675"
   ]
  },
  {
   "cell_type": "code",
   "execution_count": 13,
   "metadata": {},
   "outputs": [],
   "source": [
    "def classify_bankrupt(altman_z_score):\n",
    "    return 1 if altman_z_score < 2.675 else 0"
   ]
  },
  {
   "cell_type": "code",
   "execution_count": 14,
   "metadata": {},
   "outputs": [],
   "source": [
    "df['bankrupt_pred'] = df['Altman_Z_Score'].apply(lambda x: classify_bankrupt(x))"
   ]
  },
  {
   "cell_type": "code",
   "execution_count": 15,
   "metadata": {},
   "outputs": [
    {
     "data": {
      "text/html": [
       "<div>\n",
       "<style scoped>\n",
       "    .dataframe tbody tr th:only-of-type {\n",
       "        vertical-align: middle;\n",
       "    }\n",
       "\n",
       "    .dataframe tbody tr th {\n",
       "        vertical-align: top;\n",
       "    }\n",
       "\n",
       "    .dataframe thead th {\n",
       "        text-align: right;\n",
       "    }\n",
       "</style>\n",
       "<table border=\"1\" class=\"dataframe\">\n",
       "  <thead>\n",
       "    <tr style=\"text-align: right;\">\n",
       "      <th></th>\n",
       "      <th>Altman_X1</th>\n",
       "      <th>Altman_X2</th>\n",
       "      <th>Altman_X3</th>\n",
       "      <th>Altman_X4</th>\n",
       "      <th>Altman_X5</th>\n",
       "      <th>bankrupt</th>\n",
       "      <th>Altman_Z_Score</th>\n",
       "      <th>bankrupt_pred</th>\n",
       "    </tr>\n",
       "  </thead>\n",
       "  <tbody>\n",
       "    <tr>\n",
       "      <th>0</th>\n",
       "      <td>0.064320</td>\n",
       "      <td>0.339074</td>\n",
       "      <td>0.111918</td>\n",
       "      <td>1.164072</td>\n",
       "      <td>2.375587</td>\n",
       "      <td>0</td>\n",
       "      <td>3.995249</td>\n",
       "      <td>0</td>\n",
       "    </tr>\n",
       "    <tr>\n",
       "      <th>1</th>\n",
       "      <td>0.161449</td>\n",
       "      <td>0.488845</td>\n",
       "      <td>0.044199</td>\n",
       "      <td>0.680060</td>\n",
       "      <td>1.203524</td>\n",
       "      <td>0</td>\n",
       "      <td>2.635540</td>\n",
       "      <td>1</td>\n",
       "    </tr>\n",
       "    <tr>\n",
       "      <th>2</th>\n",
       "      <td>0.300186</td>\n",
       "      <td>0.438319</td>\n",
       "      <td>0.072352</td>\n",
       "      <td>1.508575</td>\n",
       "      <td>1.511419</td>\n",
       "      <td>0</td>\n",
       "      <td>3.629197</td>\n",
       "      <td>0</td>\n",
       "    </tr>\n",
       "    <tr>\n",
       "      <th>3</th>\n",
       "      <td>0.214106</td>\n",
       "      <td>0.079664</td>\n",
       "      <td>0.146052</td>\n",
       "      <td>6.114234</td>\n",
       "      <td>1.049917</td>\n",
       "      <td>0</td>\n",
       "      <td>5.568886</td>\n",
       "      <td>0</td>\n",
       "    </tr>\n",
       "    <tr>\n",
       "      <th>4</th>\n",
       "      <td>0.321669</td>\n",
       "      <td>0.206953</td>\n",
       "      <td>0.078245</td>\n",
       "      <td>0.627350</td>\n",
       "      <td>2.505141</td>\n",
       "      <td>0</td>\n",
       "      <td>3.815497</td>\n",
       "      <td>0</td>\n",
       "    </tr>\n",
       "  </tbody>\n",
       "</table>\n",
       "</div>"
      ],
      "text/plain": [
       "   Altman_X1  Altman_X2  Altman_X3  Altman_X4  Altman_X5  bankrupt  \\\n",
       "0   0.064320   0.339074   0.111918   1.164072   2.375587         0   \n",
       "1   0.161449   0.488845   0.044199   0.680060   1.203524         0   \n",
       "2   0.300186   0.438319   0.072352   1.508575   1.511419         0   \n",
       "3   0.214106   0.079664   0.146052   6.114234   1.049917         0   \n",
       "4   0.321669   0.206953   0.078245   0.627350   2.505141         0   \n",
       "\n",
       "   Altman_Z_Score  bankrupt_pred  \n",
       "0        3.995249              0  \n",
       "1        2.635540              1  \n",
       "2        3.629197              0  \n",
       "3        5.568886              0  \n",
       "4        3.815497              0  "
      ]
     },
     "execution_count": 15,
     "metadata": {},
     "output_type": "execute_result"
    }
   ],
   "source": [
    "df.head()"
   ]
  },
  {
   "cell_type": "markdown",
   "metadata": {},
   "source": [
    "#### Classification Report"
   ]
  },
  {
   "cell_type": "code",
   "execution_count": 16,
   "metadata": {},
   "outputs": [
    {
     "name": "stdout",
     "output_type": "stream",
     "text": [
      "              precision    recall  f1-score   support\n",
      "\n",
      "           0       1.00      0.58      0.73     26638\n",
      "           1       0.01      0.91      0.03       181\n",
      "\n",
      "    accuracy                           0.58     26819\n",
      "   macro avg       0.51      0.74      0.38     26819\n",
      "weighted avg       0.99      0.58      0.73     26819\n",
      "\n"
     ]
    }
   ],
   "source": [
    "print(classification_report(df['bankrupt'], df['bankrupt_pred']))"
   ]
  },
  {
   "cell_type": "markdown",
   "metadata": {},
   "source": [
    "#### F1-Score"
   ]
  },
  {
   "cell_type": "code",
   "execution_count": 17,
   "metadata": {},
   "outputs": [
    {
     "name": "stdout",
     "output_type": "stream",
     "text": [
      "F1-Score: 0.028398268398268398\n"
     ]
    }
   ],
   "source": [
    "f1 = f1_score(df['bankrupt'], df['bankrupt_pred'])\n",
    "print(f'F1-Score: {f1}')"
   ]
  },
  {
   "cell_type": "markdown",
   "metadata": {},
   "source": [
    "#### Confusion Matrix"
   ]
  },
  {
   "cell_type": "code",
   "execution_count": 18,
   "metadata": {},
   "outputs": [
    {
     "data": {
      "image/png": "[encoded data removed]",
      "text/plain": [
       "<Figure size 720x360 with 2 Axes>"
      ]
     },
     "metadata": {
      "needs_background": "light"
     },
     "output_type": "display_data"
    }
   ],
   "source": [
    "cm_data = confusion_matrix(df['bankrupt'], df['bankrupt_pred'])\n",
    "df_cm = pd.DataFrame(cm_data, columns=np.unique(df['bankrupt']), index=np.unique(df['bankrupt']))\n",
    "df_cm.index.name = 'Actual'\n",
    "df_cm.columns.name = 'Predicted'\n",
    "plt.figure(figsize=(10,5))\n",
    "sns.set(font_scale=1.5)\n",
    "sns.heatmap(df_cm, cmap='Blues', annot=True, annot_kws={'size':18}, fmt='g')\n",
    "plt.title(\"Confusion Matrix for\\nTraining Data (Baseline Case)\\n\", size=20)\n",
    "plt.show()"
   ]
  },
  {
   "cell_type": "markdown",
   "metadata": {},
   "source": [
    "## <a id='2'>Section 2</a>"
   ]
  },
  {
   "cell_type": "markdown",
   "metadata": {},
   "source": [
    "#### With *Altman_X1*, *Altman_X2*, *Altman_X3*, *Altman_X4*, *Altman_X5* as Input Features and *bankrupt* as Label"
   ]
  },
  {
   "cell_type": "code",
   "execution_count": 19,
   "metadata": {},
   "outputs": [],
   "source": [
    "x_var = ['Altman_X1', 'Altman_X2', 'Altman_X3', 'Altman_X4', 'Altman_X5']\n",
    "y_var = 'bankrupt'"
   ]
  },
  {
   "cell_type": "markdown",
   "metadata": {},
   "source": [
    "#### 5-Fold Stratified Cross-Validation"
   ]
  },
  {
   "cell_type": "code",
   "execution_count": 20,
   "metadata": {},
   "outputs": [],
   "source": [
    "kf = StratifiedKFold(n_splits=5, shuffle=False)"
   ]
  },
  {
   "cell_type": "markdown",
   "metadata": {},
   "source": [
    "### 2.1 Logistic Regression: Cross-Validation"
   ]
  },
  {
   "cell_type": "code",
   "execution_count": 21,
   "metadata": {},
   "outputs": [],
   "source": [
    "all_y_preds = []\n",
    "all_y_proba = []\n",
    "all_y_true = []\n",
    "\n",
    "for train_index, test_index in kf.split(train[x_var], train[y_var]):\n",
    "    curr_train, curr_test = train.iloc[train_index], train.iloc[test_index]\n",
    "    X_train = curr_train[x_var]\n",
    "    y_train = curr_train[y_var]\n",
    "    \n",
    "    X_test = curr_test[x_var]\n",
    "    y_test = curr_test[y_var]\n",
    "    \n",
    "    log_clf = LogisticRegression(random_state=SEED)\n",
    "    log_clf.fit(X_train, np.ravel(y_train))\n",
    "    y_preds = log_clf.predict(X_test)\n",
    "    y_proba = log_clf.predict_proba(X_test)\n",
    "    all_y_preds.extend(y_preds)\n",
    "    all_y_proba.extend(y_proba[:, 1])\n",
    "    all_y_true.extend(y_test)"
   ]
  },
  {
   "cell_type": "markdown",
   "metadata": {},
   "source": [
    "#### Classification Report"
   ]
  },
  {
   "cell_type": "code",
   "execution_count": 22,
   "metadata": {},
   "outputs": [
    {
     "name": "stdout",
     "output_type": "stream",
     "text": [
      "              precision    recall  f1-score   support\n",
      "\n",
      "           0       0.99      1.00      1.00     26638\n",
      "           1       0.50      0.04      0.08       181\n",
      "\n",
      "    accuracy                           0.99     26819\n",
      "   macro avg       0.75      0.52      0.54     26819\n",
      "weighted avg       0.99      0.99      0.99     26819\n",
      "\n"
     ]
    }
   ],
   "source": [
    "print(classification_report(all_y_true, all_y_preds))"
   ]
  },
  {
   "cell_type": "markdown",
   "metadata": {},
   "source": [
    "#### F1-Score"
   ]
  },
  {
   "cell_type": "code",
   "execution_count": 23,
   "metadata": {},
   "outputs": [
    {
     "name": "stdout",
     "output_type": "stream",
     "text": [
      "F1-Score: 0.08121827411167512\n"
     ]
    }
   ],
   "source": [
    "f1_log = f1_score(all_y_true, all_y_preds)\n",
    "print(f\"F1-Score: {f1_log}\") "
   ]
  },
  {
   "cell_type": "markdown",
   "metadata": {},
   "source": [
    "#### Confusion Matrix"
   ]
  },
  {
   "cell_type": "code",
   "execution_count": 24,
   "metadata": {
    "scrolled": false
   },
   "outputs": [
    {
     "data": {
      "image/png": "[encoded data removed]",
      "text/plain": [
       "<Figure size 720x360 with 2 Axes>"
      ]
     },
     "metadata": {},
     "output_type": "display_data"
    }
   ],
   "source": [
    "cm_data = confusion_matrix(all_y_true, all_y_preds)\n",
    "df_cm = pd.DataFrame(cm_data, columns=np.unique(all_y_true), index=np.unique(all_y_true))\n",
    "df_cm.index.name = 'Actual'\n",
    "df_cm.columns.name = 'Predicted'\n",
    "plt.figure(figsize=(10,5))\n",
    "sns.set(font_scale=1.5)\n",
    "sns.heatmap(df_cm, cmap='Blues', annot=True, annot_kws={'size':18}, fmt='g')\n",
    "plt.title(\"Confusion Matrix for\\nLogistic Regression (5-Fold Cross-Validation)\\n\", size=20)\n",
    "plt.show()"
   ]
  },
  {
   "cell_type": "markdown",
   "metadata": {},
   "source": [
    "### 2.2 CART Decision Tree: Cross-Validation"
   ]
  },
  {
   "cell_type": "code",
   "execution_count": 25,
   "metadata": {},
   "outputs": [],
   "source": [
    "all_y_preds = []\n",
    "all_y_proba = []\n",
    "all_y_true = []\n",
    "\n",
    "for train_index, test_index in kf.split(train[x_var], train[y_var]):\n",
    "    curr_train, curr_test = train.iloc[train_index], train.iloc[test_index]\n",
    "    X_train = curr_train[x_var]\n",
    "    y_train = curr_train[y_var]\n",
    "    \n",
    "    X_test = curr_test[x_var]\n",
    "    y_test = curr_test[y_var]\n",
    "    \n",
    "    dt_clf = DecisionTreeClassifier(random_state=SEED)\n",
    "    dt_clf.fit(X_train, y_train)\n",
    "    y_preds = dt_clf.predict(X_test)\n",
    "    y_proba = dt_clf.predict_proba(X_test)\n",
    "    all_y_preds.extend(y_preds)\n",
    "    all_y_proba.extend(y_proba[:, 1])\n",
    "    all_y_true.extend(y_test)"
   ]
  },
  {
   "cell_type": "markdown",
   "metadata": {},
   "source": [
    "#### Classification Report"
   ]
  },
  {
   "cell_type": "code",
   "execution_count": 26,
   "metadata": {
    "scrolled": true
   },
   "outputs": [
    {
     "name": "stdout",
     "output_type": "stream",
     "text": [
      "              precision    recall  f1-score   support\n",
      "\n",
      "           0       0.99      0.99      0.99     26638\n",
      "           1       0.12      0.14      0.13       181\n",
      "\n",
      "    accuracy                           0.99     26819\n",
      "   macro avg       0.56      0.57      0.56     26819\n",
      "weighted avg       0.99      0.99      0.99     26819\n",
      "\n"
     ]
    }
   ],
   "source": [
    "print(classification_report(all_y_true, all_y_preds))"
   ]
  },
  {
   "cell_type": "markdown",
   "metadata": {},
   "source": [
    "#### F1-Score"
   ]
  },
  {
   "cell_type": "code",
   "execution_count": 27,
   "metadata": {},
   "outputs": [
    {
     "name": "stdout",
     "output_type": "stream",
     "text": [
      "F1-Score: 0.13089005235602091\n"
     ]
    }
   ],
   "source": [
    "f1_dt = f1_score(all_y_true, all_y_preds)\n",
    "print(f\"F1-Score: {f1_dt}\") "
   ]
  },
  {
   "cell_type": "markdown",
   "metadata": {},
   "source": [
    "#### Confusion Matrix"
   ]
  },
  {
   "cell_type": "code",
   "execution_count": 28,
   "metadata": {},
   "outputs": [
    {
     "data": {
      "image/png": "[encoded data removed]",
      "text/plain": [
       "<Figure size 720x360 with 2 Axes>"
      ]
     },
     "metadata": {},
     "output_type": "display_data"
    }
   ],
   "source": [
    "cm_data = confusion_matrix(all_y_true, all_y_preds)\n",
    "df_cm = pd.DataFrame(cm_data, columns=np.unique(all_y_true), index=np.unique(all_y_true))\n",
    "df_cm.index.name = 'Actual'\n",
    "df_cm.columns.name = 'Predicted'\n",
    "plt.figure(figsize=(10,5))\n",
    "sns.set(font_scale=1.5)\n",
    "sns.heatmap(df_cm, cmap='Blues', annot=True, annot_kws={'size':18}, fmt='g')\n",
    "plt.title(\"Confusion Matrix for\\nCART Decision Tree (5-Fold Cross-Validation)\\n\", size=20)\n",
    "plt.show()"
   ]
  },
  {
   "cell_type": "markdown",
   "metadata": {},
   "source": [
    "### 2.3 XGBoost: Cross-Validation"
   ]
  },
  {
   "cell_type": "code",
   "execution_count": 29,
   "metadata": {},
   "outputs": [],
   "source": [
    "all_y_preds = []\n",
    "all_y_proba = []\n",
    "all_y_true = []\n",
    "\n",
    "for train_index, test_index in kf.split(train[x_var], train[y_var]):\n",
    "    curr_train, curr_test = train.iloc[train_index], train.iloc[test_index]\n",
    "    X_train = curr_train[x_var]\n",
    "    y_train = curr_train[y_var]\n",
    "    \n",
    "    X_test = curr_test[x_var]\n",
    "    y_test = curr_test[y_var]\n",
    "    \n",
    "    xg_clf = XGBClassifier(random_state=SEED)\n",
    "    xg_clf.fit(X_train, y_train)\n",
    "    y_preds = xg_clf.predict(X_test)\n",
    "    y_proba = xg_clf.predict_proba(X_test)\n",
    "    all_y_preds.extend(y_preds)\n",
    "    all_y_proba.extend(y_proba[:, 1])\n",
    "    all_y_true.extend(y_test)"
   ]
  },
  {
   "cell_type": "markdown",
   "metadata": {},
   "source": [
    "#### Classification Report"
   ]
  },
  {
   "cell_type": "code",
   "execution_count": 30,
   "metadata": {},
   "outputs": [
    {
     "name": "stdout",
     "output_type": "stream",
     "text": [
      "              precision    recall  f1-score   support\n",
      "\n",
      "           0       0.99      1.00      1.00     26638\n",
      "           1       0.22      0.04      0.07       181\n",
      "\n",
      "    accuracy                           0.99     26819\n",
      "   macro avg       0.61      0.52      0.53     26819\n",
      "weighted avg       0.99      0.99      0.99     26819\n",
      "\n"
     ]
    }
   ],
   "source": [
    "print(classification_report(all_y_true, all_y_preds))"
   ]
  },
  {
   "cell_type": "markdown",
   "metadata": {},
   "source": [
    "#### F1-Score"
   ]
  },
  {
   "cell_type": "code",
   "execution_count": 31,
   "metadata": {},
   "outputs": [
    {
     "name": "stdout",
     "output_type": "stream",
     "text": [
      "F1-Score: 0.07373271889400922\n"
     ]
    }
   ],
   "source": [
    "f1_xg = f1_score(all_y_true, all_y_preds)\n",
    "print(f\"F1-Score: {f1_xg}\") "
   ]
  },
  {
   "cell_type": "markdown",
   "metadata": {},
   "source": [
    "#### Confusion Matrix"
   ]
  },
  {
   "cell_type": "code",
   "execution_count": 32,
   "metadata": {},
   "outputs": [
    {
     "data": {
      "image/png": "[encoded data removed]",
      "text/plain": [
       "<Figure size 720x360 with 2 Axes>"
      ]
     },
     "metadata": {},
     "output_type": "display_data"
    }
   ],
   "source": [
    "cm_data = confusion_matrix(all_y_true, all_y_preds)\n",
    "df_cm = pd.DataFrame(cm_data, columns=np.unique(all_y_true), index=np.unique(all_y_true))\n",
    "df_cm.index.name = 'Actual'\n",
    "df_cm.columns.name = 'Predicted'\n",
    "plt.figure(figsize=(10,5))\n",
    "sns.set(font_scale=1.5)\n",
    "sns.heatmap(df_cm, cmap='Blues', annot=True, annot_kws={'size':18}, fmt='g')\n",
    "plt.title(\"Confusion Matrix for\\nXGBoost (5-Fold Cross-Validation)\\n\", size=20)\n",
    "plt.show()"
   ]
  },
  {
   "cell_type": "markdown",
   "metadata": {},
   "source": [
    "### 2.4 Evaluation"
   ]
  },
  {
   "cell_type": "code",
   "execution_count": 33,
   "metadata": {},
   "outputs": [
    {
     "data": {
      "text/html": [
       "<div>\n",
       "<style scoped>\n",
       "    .dataframe tbody tr th:only-of-type {\n",
       "        vertical-align: middle;\n",
       "    }\n",
       "\n",
       "    .dataframe tbody tr th {\n",
       "        vertical-align: top;\n",
       "    }\n",
       "\n",
       "    .dataframe thead th {\n",
       "        text-align: right;\n",
       "    }\n",
       "</style>\n",
       "<table border=\"1\" class=\"dataframe\">\n",
       "  <thead>\n",
       "    <tr style=\"text-align: right;\">\n",
       "      <th></th>\n",
       "      <th>Technique</th>\n",
       "      <th>F1-Score</th>\n",
       "    </tr>\n",
       "  </thead>\n",
       "  <tbody>\n",
       "    <tr>\n",
       "      <th>1</th>\n",
       "      <td>CART Decision Tree</td>\n",
       "      <td>0.130890</td>\n",
       "    </tr>\n",
       "    <tr>\n",
       "      <th>0</th>\n",
       "      <td>Logistic Regression</td>\n",
       "      <td>0.081218</td>\n",
       "    </tr>\n",
       "    <tr>\n",
       "      <th>2</th>\n",
       "      <td>XGBoost</td>\n",
       "      <td>0.073733</td>\n",
       "    </tr>\n",
       "  </tbody>\n",
       "</table>\n",
       "</div>"
      ],
      "text/plain": [
       "             Technique  F1-Score\n",
       "1   CART Decision Tree  0.130890\n",
       "0  Logistic Regression  0.081218\n",
       "2              XGBoost  0.073733"
      ]
     },
     "execution_count": 33,
     "metadata": {},
     "output_type": "execute_result"
    }
   ],
   "source": [
    "technique_performance = pd.DataFrame({\"Technique\": [\"Logistic Regression\", \n",
    "                                                    \"CART Decision Tree\",\n",
    "                                                    \"XGBoost\"],\n",
    "                                      \"F1-Score\": [f1_log, f1_dt, f1_xg]})\n",
    "\n",
    "technique_performance.sort_values(by=\"F1-Score\", ascending=False)"
   ]
  },
  {
   "cell_type": "markdown",
   "metadata": {},
   "source": [
    "## <a id='3'>Section 3</a>"
   ]
  },
  {
   "cell_type": "code",
   "execution_count": 34,
   "metadata": {},
   "outputs": [
    {
     "data": {
      "text/html": [
       "<div>\n",
       "<style scoped>\n",
       "    .dataframe tbody tr th:only-of-type {\n",
       "        vertical-align: middle;\n",
       "    }\n",
       "\n",
       "    .dataframe tbody tr th {\n",
       "        vertical-align: top;\n",
       "    }\n",
       "\n",
       "    .dataframe thead th {\n",
       "        text-align: right;\n",
       "    }\n",
       "</style>\n",
       "<table border=\"1\" class=\"dataframe\">\n",
       "  <thead>\n",
       "    <tr style=\"text-align: right;\">\n",
       "      <th></th>\n",
       "      <th>Count</th>\n",
       "      <th>Percentage of Total (%)</th>\n",
       "    </tr>\n",
       "  </thead>\n",
       "  <tbody>\n",
       "    <tr>\n",
       "      <th>0</th>\n",
       "      <td>26638</td>\n",
       "      <td>99.325105</td>\n",
       "    </tr>\n",
       "    <tr>\n",
       "      <th>1</th>\n",
       "      <td>181</td>\n",
       "      <td>0.674895</td>\n",
       "    </tr>\n",
       "  </tbody>\n",
       "</table>\n",
       "</div>"
      ],
      "text/plain": [
       "   Count  Percentage of Total (%)\n",
       "0  26638                99.325105\n",
       "1    181                 0.674895"
      ]
     },
     "execution_count": 34,
     "metadata": {},
     "output_type": "execute_result"
    }
   ],
   "source": [
    "bankrupt_count = pd.DataFrame(train['bankrupt'].value_counts()).rename(columns={'bankrupt':'Count'})\n",
    "bankrupt_count['Percentage of Total (%)'] = (bankrupt_count['Count']/len(train))*100\n",
    "bankrupt_count"
   ]
  },
  {
   "cell_type": "markdown",
   "metadata": {},
   "source": [
    "There is imbalanced class that needs to be handled."
   ]
  },
  {
   "cell_type": "markdown",
   "metadata": {},
   "source": [
    "### 3.1 SMOTE (Oversampling)"
   ]
  },
  {
   "cell_type": "markdown",
   "metadata": {},
   "source": [
    "In each split, oversample to target a 1:2 minority:majority ratio (`sampling_strategy` = 0.5)"
   ]
  },
  {
   "cell_type": "code",
   "execution_count": 35,
   "metadata": {},
   "outputs": [
    {
     "name": "stdout",
     "output_type": "stream",
     "text": [
      "\n",
      "Split 1:\n",
      "   Count  Percentage of Total (%)\n",
      "0  21310                66.666667\n",
      "1  10655                33.333333\n",
      "\n",
      "Split 2:\n",
      "   Count  Percentage of Total (%)\n",
      "0  21310                66.666667\n",
      "1  10655                33.333333\n",
      "\n",
      "Split 3:\n",
      "   Count  Percentage of Total (%)\n",
      "0  21310                66.666667\n",
      "1  10655                33.333333\n",
      "\n",
      "Split 4:\n",
      "   Count  Percentage of Total (%)\n",
      "0  21311                66.667709\n",
      "1  10655                33.332291\n",
      "\n",
      "Split 5:\n",
      "   Count  Percentage of Total (%)\n",
      "0  21311                66.667709\n",
      "1  10655                33.332291\n"
     ]
    }
   ],
   "source": [
    "all_y_preds = []\n",
    "all_y_proba = []\n",
    "all_y_true = []\n",
    "split = 1\n",
    "for train_index, test_index in kf.split(train[x_var], train[y_var]):\n",
    "    curr_train, curr_test = train.iloc[train_index], train.iloc[test_index]\n",
    "    \n",
    "    X_train = curr_train[x_var]\n",
    "    y_train = curr_train[y_var]\n",
    "    \n",
    "    sm = SMOTE(random_state=SEED, sampling_strategy=0.5)\n",
    "    X_smote, y_smote = sm.fit_resample(X_train, y_train)\n",
    "    \n",
    "    X_test = curr_test[x_var]\n",
    "    y_test = curr_test[y_var]\n",
    "    \n",
    "    bankrupt_count_smote = pd.DataFrame(y_smote.value_counts()).rename(columns={'bankrupt':'Count'})\n",
    "    bankrupt_count_smote['Percentage of Total (%)'] = (bankrupt_count_smote['Count']/len(y_smote))*100\n",
    "    print(f\"\\nSplit {split}:\")\n",
    "    print(bankrupt_count_smote)\n",
    "    \n",
    "    dt_clf = DecisionTreeClassifier(random_state=SEED)\n",
    "    dt_clf.fit(X_smote, y_smote)\n",
    "    y_preds = dt_clf.predict(X_test)\n",
    "    y_proba = dt_clf.predict_proba(X_test)\n",
    "    all_y_preds.extend(y_preds)\n",
    "    all_y_proba.extend(y_proba[:, 1])\n",
    "    all_y_true.extend(y_test)\n",
    "    split += 1"
   ]
  },
  {
   "cell_type": "markdown",
   "metadata": {},
   "source": [
    "#### Classification Report"
   ]
  },
  {
   "cell_type": "code",
   "execution_count": 36,
   "metadata": {},
   "outputs": [
    {
     "name": "stdout",
     "output_type": "stream",
     "text": [
      "              precision    recall  f1-score   support\n",
      "\n",
      "           0       1.00      0.97      0.98     26638\n",
      "           1       0.06      0.31      0.10       181\n",
      "\n",
      "    accuracy                           0.96     26819\n",
      "   macro avg       0.53      0.64      0.54     26819\n",
      "weighted avg       0.99      0.96      0.97     26819\n",
      "\n"
     ]
    }
   ],
   "source": [
    "print(classification_report(all_y_true, all_y_preds))"
   ]
  },
  {
   "cell_type": "markdown",
   "metadata": {},
   "source": [
    "#### F1-Score"
   ]
  },
  {
   "cell_type": "code",
   "execution_count": 37,
   "metadata": {},
   "outputs": [
    {
     "name": "stdout",
     "output_type": "stream",
     "text": [
      "F1-Score: 0.10053859964093356\n"
     ]
    }
   ],
   "source": [
    "f1_dt_smote = f1_score(all_y_true, all_y_preds)\n",
    "print(f\"F1-Score: {f1_dt_smote}\") "
   ]
  },
  {
   "cell_type": "markdown",
   "metadata": {},
   "source": [
    "#### Confusion Matrix"
   ]
  },
  {
   "cell_type": "code",
   "execution_count": 38,
   "metadata": {},
   "outputs": [
    {
     "data": {
      "image/png": "[encoded data removed]",
      "text/plain": [
       "<Figure size 720x360 with 2 Axes>"
      ]
     },
     "metadata": {},
     "output_type": "display_data"
    }
   ],
   "source": [
    "cm_data = confusion_matrix(all_y_true, all_y_preds)\n",
    "df_cm = pd.DataFrame(cm_data, columns=np.unique(all_y_true), index=np.unique(all_y_true))\n",
    "df_cm.index.name = 'Actual'\n",
    "df_cm.columns.name = 'Predicted'\n",
    "plt.figure(figsize=(10,5))\n",
    "sns.set(font_scale=1.5)\n",
    "sns.heatmap(df_cm, cmap='Blues', annot=True, annot_kws={'size':18}, fmt='g')\n",
    "plt.title(\"Confusion Matrix for\\nCART Decision Tree with SMOTE (5-Fold Cross-Validation)\\n\", size=20)\n",
    "plt.show()"
   ]
  },
  {
   "cell_type": "markdown",
   "metadata": {},
   "source": [
    "### 3.2 SMOTE (Oversampling) + Edited Nearest Neighbours (Undersampling)"
   ]
  },
  {
   "cell_type": "markdown",
   "metadata": {},
   "source": [
    "In each split, <br>(1) Oversample to target a 1:2 minority:majority ratio (`sampling_strategy` = 0.5)<br>(2) Undersample with removal of majority class if all 5 nearest neighbours are minority classes"
   ]
  },
  {
   "cell_type": "code",
   "execution_count": 39,
   "metadata": {},
   "outputs": [
    {
     "name": "stdout",
     "output_type": "stream",
     "text": [
      "\n",
      "Split 1:\n",
      "   Count  Percentage of Total (%)\n",
      "0  19625                64.811757\n",
      "1  10655                35.188243\n",
      "\n",
      "Split 2:\n",
      "   Count  Percentage of Total (%)\n",
      "0  19381                64.525902\n",
      "1  10655                35.474098\n",
      "\n",
      "Split 3:\n",
      "   Count  Percentage of Total (%)\n",
      "0  19631                64.818728\n",
      "1  10655                35.181272\n",
      "\n",
      "Split 4:\n",
      "   Count  Percentage of Total (%)\n",
      "0  19426                 64.57897\n",
      "1  10655                 35.42103\n",
      "\n",
      "Split 5:\n",
      "   Count  Percentage of Total (%)\n",
      "0  19462                 64.62131\n",
      "1  10655                 35.37869\n"
     ]
    }
   ],
   "source": [
    "all_y_preds = []\n",
    "all_y_proba = []\n",
    "all_y_true = []\n",
    "split = 1\n",
    "for train_index, test_index in kf.split(train[x_var], train[y_var]):\n",
    "    curr_train, curr_test = train.iloc[train_index], train.iloc[test_index]\n",
    "    \n",
    "    X_train = curr_train[x_var]\n",
    "    y_train = curr_train[y_var]\n",
    "    \n",
    "    sm = SMOTE(random_state=SEED, sampling_strategy=0.5)\n",
    "    ennObj = EditedNearestNeighbours(n_neighbors=5)\n",
    "    smote_enn = SMOTEENN(smote=sm, enn= ennObj, random_state=SEED)\n",
    "    X_smoteENN, y_smoteENN = smote_enn.fit_resample(X_train, y_train)\n",
    "    \n",
    "    X_test = curr_test[x_var]\n",
    "    y_test = curr_test[y_var]\n",
    "    \n",
    "    bankrupt_count_smoteENN = pd.DataFrame(y_smoteENN.value_counts()).rename(columns={'bankrupt':'Count'})\n",
    "    bankrupt_count_smoteENN['Percentage of Total (%)'] = (bankrupt_count_smoteENN['Count']/len(y_smoteENN))*100\n",
    "    print(f\"\\nSplit {split}:\")\n",
    "    print(bankrupt_count_smoteENN)\n",
    "    \n",
    "    dt_clf = DecisionTreeClassifier(random_state=SEED)\n",
    "    dt_clf.fit(X_smoteENN, y_smoteENN)\n",
    "    y_preds = dt_clf.predict(X_test)\n",
    "    y_proba = dt_clf.predict_proba(X_test)\n",
    "    all_y_preds.extend(y_preds)\n",
    "    all_y_proba.extend(y_proba[:, 1])\n",
    "    all_y_true.extend(y_test)\n",
    "    split += 1"
   ]
  },
  {
   "cell_type": "markdown",
   "metadata": {},
   "source": [
    "#### Classification Report"
   ]
  },
  {
   "cell_type": "code",
   "execution_count": 40,
   "metadata": {},
   "outputs": [
    {
     "name": "stdout",
     "output_type": "stream",
     "text": [
      "              precision    recall  f1-score   support\n",
      "\n",
      "           0       1.00      0.95      0.97     26638\n",
      "           1       0.06      0.48      0.11       181\n",
      "\n",
      "    accuracy                           0.95     26819\n",
      "   macro avg       0.53      0.72      0.54     26819\n",
      "weighted avg       0.99      0.95      0.97     26819\n",
      "\n"
     ]
    }
   ],
   "source": [
    "print(classification_report(all_y_true, all_y_preds))"
   ]
  },
  {
   "cell_type": "markdown",
   "metadata": {},
   "source": [
    "#### F1-Score"
   ]
  },
  {
   "cell_type": "code",
   "execution_count": 41,
   "metadata": {},
   "outputs": [
    {
     "name": "stdout",
     "output_type": "stream",
     "text": [
      "F1-Score: 0.10998735777496839\n"
     ]
    }
   ],
   "source": [
    "f1_dt_smoteENN = f1_score(all_y_true, all_y_preds)\n",
    "print(f\"F1-Score: {f1_dt_smoteENN}\") "
   ]
  },
  {
   "cell_type": "markdown",
   "metadata": {},
   "source": [
    "#### Confusion Matrix"
   ]
  },
  {
   "cell_type": "code",
   "execution_count": 42,
   "metadata": {},
   "outputs": [
    {
     "data": {
      "image/png": "[encoded data removed]",
      "text/plain": [
       "<Figure size 720x360 with 2 Axes>"
      ]
     },
     "metadata": {},
     "output_type": "display_data"
    }
   ],
   "source": [
    "cm_data = confusion_matrix(all_y_true, all_y_preds)\n",
    "df_cm = pd.DataFrame(cm_data, columns=np.unique(all_y_true), index=np.unique(all_y_true))\n",
    "df_cm.index.name = 'Actual'\n",
    "df_cm.columns.name = 'Predicted'\n",
    "plt.figure(figsize=(10,5))\n",
    "sns.set(font_scale=1.5)\n",
    "sns.heatmap(df_cm, cmap='Blues', annot=True, annot_kws={'size':18}, fmt='g')\n",
    "plt.title(\"Confusion Matrix for\\nCART Decision Tree with SMOTE + ENN (5-Fold Cross-Validation)\\n\", size=20)\n",
    "plt.show()"
   ]
  },
  {
   "cell_type": "markdown",
   "metadata": {},
   "source": [
    "### 3.3 Over-Weighting Minority Class"
   ]
  },
  {
   "cell_type": "markdown",
   "metadata": {},
   "source": [
    "In each split, over-weight rows of minority class (label = 1) by 40 times using `class_weight` parameter"
   ]
  },
  {
   "cell_type": "code",
   "execution_count": 43,
   "metadata": {},
   "outputs": [],
   "source": [
    "weight = {0:1, 1:40}"
   ]
  },
  {
   "cell_type": "code",
   "execution_count": 44,
   "metadata": {},
   "outputs": [],
   "source": [
    "all_y_preds = []\n",
    "all_y_proba = []\n",
    "all_y_true = []\n",
    "for train_index, test_index in kf.split(train[x_var], train[y_var]):\n",
    "    curr_train, curr_test = train.iloc[train_index], train.iloc[test_index]\n",
    "    \n",
    "    X_train = curr_train[x_var]\n",
    "    y_train = curr_train[y_var]\n",
    "    \n",
    "    X_test = curr_test[x_var]\n",
    "    y_test = curr_test[y_var]\n",
    "    \n",
    "    dt_clf = DecisionTreeClassifier(class_weight=weight, random_state=SEED)\n",
    "    dt_clf.fit(X_train, y_train)\n",
    "    y_preds = dt_clf.predict(X_test)\n",
    "    y_proba = dt_clf.predict_proba(X_test)\n",
    "    all_y_preds.extend(y_preds)\n",
    "    all_y_proba.extend(y_proba[:, 1])\n",
    "    all_y_true.extend(y_test)"
   ]
  },
  {
   "cell_type": "markdown",
   "metadata": {},
   "source": [
    "#### Classification Report"
   ]
  },
  {
   "cell_type": "code",
   "execution_count": 45,
   "metadata": {},
   "outputs": [
    {
     "name": "stdout",
     "output_type": "stream",
     "text": [
      "              precision    recall  f1-score   support\n",
      "\n",
      "           0       0.99      0.99      0.99     26638\n",
      "           1       0.15      0.16      0.15       181\n",
      "\n",
      "    accuracy                           0.99     26819\n",
      "   macro avg       0.57      0.58      0.57     26819\n",
      "weighted avg       0.99      0.99      0.99     26819\n",
      "\n"
     ]
    }
   ],
   "source": [
    "print(classification_report(all_y_true, all_y_preds))"
   ]
  },
  {
   "cell_type": "markdown",
   "metadata": {},
   "source": [
    "#### F1-Score"
   ]
  },
  {
   "cell_type": "code",
   "execution_count": 46,
   "metadata": {},
   "outputs": [
    {
     "name": "stdout",
     "output_type": "stream",
     "text": [
      "F1-Score: 0.15425531914893617\n"
     ]
    }
   ],
   "source": [
    "f1_dt_overweight = f1_score(all_y_true, all_y_preds)\n",
    "print(f\"F1-Score: {f1_dt_overweight}\") "
   ]
  },
  {
   "cell_type": "markdown",
   "metadata": {},
   "source": [
    "#### Confusion Matrix"
   ]
  },
  {
   "cell_type": "code",
   "execution_count": 47,
   "metadata": {
    "scrolled": false
   },
   "outputs": [
    {
     "data": {
      "image/png": "[encoded data removed]",
      "text/plain": [
       "<Figure size 720x360 with 2 Axes>"
      ]
     },
     "metadata": {},
     "output_type": "display_data"
    }
   ],
   "source": [
    "cm_data = confusion_matrix(all_y_true, all_y_preds)\n",
    "df_cm = pd.DataFrame(cm_data, columns=np.unique(all_y_true), index=np.unique(all_y_true))\n",
    "df_cm.index.name = 'Actual'\n",
    "df_cm.columns.name = 'Predicted'\n",
    "plt.figure(figsize=(10,5))\n",
    "sns.set(font_scale=1.5)\n",
    "sns.heatmap(df_cm, cmap='Blues', annot=True, annot_kws={'size':18}, fmt='g')\n",
    "plt.title(\"Confusion Matrix for\\nCART Decision Tree with Over-weighted Minority Class (5-Fold Cross-Validation)\\n\", size=20)\n",
    "plt.show()"
   ]
  },
  {
   "cell_type": "markdown",
   "metadata": {},
   "source": [
    "<a id='imbalanced_evaluation'></a>"
   ]
  },
  {
   "cell_type": "markdown",
   "metadata": {},
   "source": [
    "### 3.4 Evaluation"
   ]
  },
  {
   "cell_type": "code",
   "execution_count": 48,
   "metadata": {
    "scrolled": true
   },
   "outputs": [
    {
     "data": {
      "text/html": [
       "<div>\n",
       "<style scoped>\n",
       "    .dataframe tbody tr th:only-of-type {\n",
       "        vertical-align: middle;\n",
       "    }\n",
       "\n",
       "    .dataframe tbody tr th {\n",
       "        vertical-align: top;\n",
       "    }\n",
       "\n",
       "    .dataframe thead th {\n",
       "        text-align: right;\n",
       "    }\n",
       "</style>\n",
       "<table border=\"1\" class=\"dataframe\">\n",
       "  <thead>\n",
       "    <tr style=\"text-align: right;\">\n",
       "      <th></th>\n",
       "      <th>Technique</th>\n",
       "      <th>F1-Score</th>\n",
       "    </tr>\n",
       "  </thead>\n",
       "  <tbody>\n",
       "    <tr>\n",
       "      <th>3</th>\n",
       "      <td>CART Decision Tree (Over-weight Minority)</td>\n",
       "      <td>0.154255</td>\n",
       "    </tr>\n",
       "    <tr>\n",
       "      <th>0</th>\n",
       "      <td>CART Decision Tree</td>\n",
       "      <td>0.130890</td>\n",
       "    </tr>\n",
       "    <tr>\n",
       "      <th>2</th>\n",
       "      <td>CART Decision Tree (SMOTE + ENN)</td>\n",
       "      <td>0.109987</td>\n",
       "    </tr>\n",
       "    <tr>\n",
       "      <th>1</th>\n",
       "      <td>CART Decision Tree (SMOTE)</td>\n",
       "      <td>0.100539</td>\n",
       "    </tr>\n",
       "  </tbody>\n",
       "</table>\n",
       "</div>"
      ],
      "text/plain": [
       "                                   Technique  F1-Score\n",
       "3  CART Decision Tree (Over-weight Minority)  0.154255\n",
       "0                         CART Decision Tree  0.130890\n",
       "2           CART Decision Tree (SMOTE + ENN)  0.109987\n",
       "1                 CART Decision Tree (SMOTE)  0.100539"
      ]
     },
     "execution_count": 48,
     "metadata": {},
     "output_type": "execute_result"
    }
   ],
   "source": [
    "technique_performance = pd.DataFrame({\"Technique\": [\"CART Decision Tree\", \n",
    "                                                    \"CART Decision Tree (SMOTE)\", \n",
    "                                                    \"CART Decision Tree (SMOTE + ENN)\", \n",
    "                                                    \"CART Decision Tree (Over-weight Minority)\"],\n",
    "                                      \"F1-Score\": [f1_dt, f1_dt_smote, f1_dt_smoteENN, f1_dt_overweight]})\n",
    "\n",
    "technique_performance.sort_values(by=\"F1-Score\", ascending=False)"
   ]
  },
  {
   "cell_type": "markdown",
   "metadata": {},
   "source": [
    "Out of the 3 different methods to handle imbalanced class, only over-weighting the minority class helps in improving F1-Score. In fact, using SMOTE + ENN and SMOTE decrease the F1-Score."
   ]
  },
  {
   "cell_type": "markdown",
   "metadata": {},
   "source": [
    "## <a id='4'>Section 4</a>"
   ]
  },
  {
   "cell_type": "code",
   "execution_count": 49,
   "metadata": {
    "scrolled": true
   },
   "outputs": [
    {
     "data": {
      "text/html": [
       "<div>\n",
       "<style scoped>\n",
       "    .dataframe tbody tr th:only-of-type {\n",
       "        vertical-align: middle;\n",
       "    }\n",
       "\n",
       "    .dataframe tbody tr th {\n",
       "        vertical-align: top;\n",
       "    }\n",
       "\n",
       "    .dataframe thead th {\n",
       "        text-align: right;\n",
       "    }\n",
       "</style>\n",
       "<table border=\"1\" class=\"dataframe\">\n",
       "  <thead>\n",
       "    <tr style=\"text-align: right;\">\n",
       "      <th></th>\n",
       "      <th>Data Type</th>\n",
       "    </tr>\n",
       "  </thead>\n",
       "  <tbody>\n",
       "    <tr>\n",
       "      <th>gvkey</th>\n",
       "      <td>category</td>\n",
       "    </tr>\n",
       "    <tr>\n",
       "      <th>datadate</th>\n",
       "      <td>datetime64[ns]</td>\n",
       "    </tr>\n",
       "    <tr>\n",
       "      <th>conm</th>\n",
       "      <td>object</td>\n",
       "    </tr>\n",
       "    <tr>\n",
       "      <th>at</th>\n",
       "      <td>float64</td>\n",
       "    </tr>\n",
       "    <tr>\n",
       "      <th>cogs</th>\n",
       "      <td>float64</td>\n",
       "    </tr>\n",
       "    <tr>\n",
       "      <th>csho</th>\n",
       "      <td>float64</td>\n",
       "    </tr>\n",
       "    <tr>\n",
       "      <th>dvp</th>\n",
       "      <td>float64</td>\n",
       "    </tr>\n",
       "    <tr>\n",
       "      <th>ebit</th>\n",
       "      <td>float64</td>\n",
       "    </tr>\n",
       "    <tr>\n",
       "      <th>gp</th>\n",
       "      <td>float64</td>\n",
       "    </tr>\n",
       "    <tr>\n",
       "      <th>ib</th>\n",
       "      <td>float64</td>\n",
       "    </tr>\n",
       "    <tr>\n",
       "      <th>lct</th>\n",
       "      <td>float64</td>\n",
       "    </tr>\n",
       "    <tr>\n",
       "      <th>lt</th>\n",
       "      <td>float64</td>\n",
       "    </tr>\n",
       "    <tr>\n",
       "      <th>ni</th>\n",
       "      <td>float64</td>\n",
       "    </tr>\n",
       "    <tr>\n",
       "      <th>niadj</th>\n",
       "      <td>float64</td>\n",
       "    </tr>\n",
       "    <tr>\n",
       "      <th>oiadp</th>\n",
       "      <td>float64</td>\n",
       "    </tr>\n",
       "    <tr>\n",
       "      <th>pi</th>\n",
       "      <td>float64</td>\n",
       "    </tr>\n",
       "    <tr>\n",
       "      <th>re</th>\n",
       "      <td>float64</td>\n",
       "    </tr>\n",
       "    <tr>\n",
       "      <th>revt</th>\n",
       "      <td>float64</td>\n",
       "    </tr>\n",
       "    <tr>\n",
       "      <th>sale</th>\n",
       "      <td>float64</td>\n",
       "    </tr>\n",
       "    <tr>\n",
       "      <th>wcap</th>\n",
       "      <td>float64</td>\n",
       "    </tr>\n",
       "    <tr>\n",
       "      <th>xido</th>\n",
       "      <td>float64</td>\n",
       "    </tr>\n",
       "    <tr>\n",
       "      <th>xopr</th>\n",
       "      <td>float64</td>\n",
       "    </tr>\n",
       "    <tr>\n",
       "      <th>mkvalt</th>\n",
       "      <td>float64</td>\n",
       "    </tr>\n",
       "    <tr>\n",
       "      <th>sic</th>\n",
       "      <td>category</td>\n",
       "    </tr>\n",
       "    <tr>\n",
       "      <th>bankrupt</th>\n",
       "      <td>int64</td>\n",
       "    </tr>\n",
       "    <tr>\n",
       "      <th>Altman_X1</th>\n",
       "      <td>float64</td>\n",
       "    </tr>\n",
       "    <tr>\n",
       "      <th>Altman_X2</th>\n",
       "      <td>float64</td>\n",
       "    </tr>\n",
       "    <tr>\n",
       "      <th>Altman_X3</th>\n",
       "      <td>float64</td>\n",
       "    </tr>\n",
       "    <tr>\n",
       "      <th>Altman_X4</th>\n",
       "      <td>float64</td>\n",
       "    </tr>\n",
       "    <tr>\n",
       "      <th>Altman_X5</th>\n",
       "      <td>float64</td>\n",
       "    </tr>\n",
       "  </tbody>\n",
       "</table>\n",
       "</div>"
      ],
      "text/plain": [
       "                Data Type\n",
       "gvkey            category\n",
       "datadate   datetime64[ns]\n",
       "conm               object\n",
       "at                float64\n",
       "cogs              float64\n",
       "csho              float64\n",
       "dvp               float64\n",
       "ebit              float64\n",
       "gp                float64\n",
       "ib                float64\n",
       "lct               float64\n",
       "lt                float64\n",
       "ni                float64\n",
       "niadj             float64\n",
       "oiadp             float64\n",
       "pi                float64\n",
       "re                float64\n",
       "revt              float64\n",
       "sale              float64\n",
       "wcap              float64\n",
       "xido              float64\n",
       "xopr              float64\n",
       "mkvalt            float64\n",
       "sic              category\n",
       "bankrupt            int64\n",
       "Altman_X1         float64\n",
       "Altman_X2         float64\n",
       "Altman_X3         float64\n",
       "Altman_X4         float64\n",
       "Altman_X5         float64"
      ]
     },
     "execution_count": 49,
     "metadata": {},
     "output_type": "execute_result"
    }
   ],
   "source": [
    "pd.DataFrame(train.dtypes).rename(columns={0:'Data Type'})"
   ]
  },
  {
   "cell_type": "code",
   "execution_count": 50,
   "metadata": {
    "scrolled": false
   },
   "outputs": [
    {
     "data": {
      "text/html": [
       "<div>\n",
       "<style scoped>\n",
       "    .dataframe tbody tr th:only-of-type {\n",
       "        vertical-align: middle;\n",
       "    }\n",
       "\n",
       "    .dataframe tbody tr th {\n",
       "        vertical-align: top;\n",
       "    }\n",
       "\n",
       "    .dataframe thead th {\n",
       "        text-align: right;\n",
       "    }\n",
       "</style>\n",
       "<table border=\"1\" class=\"dataframe\">\n",
       "  <thead>\n",
       "    <tr style=\"text-align: right;\">\n",
       "      <th></th>\n",
       "      <th>at</th>\n",
       "      <th>cogs</th>\n",
       "      <th>csho</th>\n",
       "      <th>dvp</th>\n",
       "      <th>ebit</th>\n",
       "      <th>gp</th>\n",
       "      <th>ib</th>\n",
       "      <th>lct</th>\n",
       "      <th>lt</th>\n",
       "      <th>ni</th>\n",
       "      <th>niadj</th>\n",
       "      <th>oiadp</th>\n",
       "      <th>pi</th>\n",
       "      <th>re</th>\n",
       "      <th>revt</th>\n",
       "      <th>sale</th>\n",
       "      <th>wcap</th>\n",
       "      <th>xido</th>\n",
       "      <th>xopr</th>\n",
       "      <th>mkvalt</th>\n",
       "      <th>bankrupt</th>\n",
       "      <th>Altman_X1</th>\n",
       "      <th>Altman_X2</th>\n",
       "      <th>Altman_X3</th>\n",
       "      <th>Altman_X4</th>\n",
       "      <th>Altman_X5</th>\n",
       "    </tr>\n",
       "  </thead>\n",
       "  <tbody>\n",
       "    <tr>\n",
       "      <th>count</th>\n",
       "      <td>26819.000000</td>\n",
       "      <td>26819.000000</td>\n",
       "      <td>26819.000000</td>\n",
       "      <td>26819.000000</td>\n",
       "      <td>26819.000000</td>\n",
       "      <td>26819.000000</td>\n",
       "      <td>26819.000000</td>\n",
       "      <td>26819.000000</td>\n",
       "      <td>26819.000000</td>\n",
       "      <td>26819.000000</td>\n",
       "      <td>26819.000000</td>\n",
       "      <td>26819.000000</td>\n",
       "      <td>26819.000000</td>\n",
       "      <td>26819.000000</td>\n",
       "      <td>26819.000000</td>\n",
       "      <td>26819.000000</td>\n",
       "      <td>26819.000000</td>\n",
       "      <td>26819.000000</td>\n",
       "      <td>26819.000000</td>\n",
       "      <td>26819.000000</td>\n",
       "      <td>26819.000000</td>\n",
       "      <td>26819.000000</td>\n",
       "      <td>26819.000000</td>\n",
       "      <td>26819.000000</td>\n",
       "      <td>26819.000000</td>\n",
       "      <td>26819.000000</td>\n",
       "    </tr>\n",
       "    <tr>\n",
       "      <th>mean</th>\n",
       "      <td>3915.880813</td>\n",
       "      <td>2296.434405</td>\n",
       "      <td>142.212575</td>\n",
       "      <td>1.088146</td>\n",
       "      <td>370.051918</td>\n",
       "      <td>1079.752864</td>\n",
       "      <td>182.198410</td>\n",
       "      <td>858.276254</td>\n",
       "      <td>2353.328278</td>\n",
       "      <td>177.498500</td>\n",
       "      <td>176.384387</td>\n",
       "      <td>370.051918</td>\n",
       "      <td>287.871638</td>\n",
       "      <td>676.185080</td>\n",
       "      <td>3376.187270</td>\n",
       "      <td>3376.187270</td>\n",
       "      <td>374.939495</td>\n",
       "      <td>-4.699910</td>\n",
       "      <td>2842.903636</td>\n",
       "      <td>4214.319994</td>\n",
       "      <td>0.006749</td>\n",
       "      <td>0.228964</td>\n",
       "      <td>-0.093309</td>\n",
       "      <td>0.063872</td>\n",
       "      <td>5.280239</td>\n",
       "      <td>1.033943</td>\n",
       "    </tr>\n",
       "    <tr>\n",
       "      <th>std</th>\n",
       "      <td>13419.380779</td>\n",
       "      <td>10071.695546</td>\n",
       "      <td>448.690088</td>\n",
       "      <td>11.656380</td>\n",
       "      <td>1648.483456</td>\n",
       "      <td>4097.193898</td>\n",
       "      <td>1216.434534</td>\n",
       "      <td>3287.416097</td>\n",
       "      <td>8189.983320</td>\n",
       "      <td>1369.879386</td>\n",
       "      <td>1369.599231</td>\n",
       "      <td>1648.483456</td>\n",
       "      <td>1823.769228</td>\n",
       "      <td>6423.763318</td>\n",
       "      <td>13421.011817</td>\n",
       "      <td>13421.011817</td>\n",
       "      <td>1635.854193</td>\n",
       "      <td>404.576121</td>\n",
       "      <td>11627.511520</td>\n",
       "      <td>16416.532733</td>\n",
       "      <td>0.081876</td>\n",
       "      <td>0.238151</td>\n",
       "      <td>1.366170</td>\n",
       "      <td>0.128516</td>\n",
       "      <td>23.276809</td>\n",
       "      <td>0.845404</td>\n",
       "    </tr>\n",
       "    <tr>\n",
       "      <th>min</th>\n",
       "      <td>100.002000</td>\n",
       "      <td>-0.206000</td>\n",
       "      <td>0.001000</td>\n",
       "      <td>-1013.000000</td>\n",
       "      <td>-8851.000000</td>\n",
       "      <td>-6887.000000</td>\n",
       "      <td>-44574.000000</td>\n",
       "      <td>0.000000</td>\n",
       "      <td>0.070000</td>\n",
       "      <td>-98696.000000</td>\n",
       "      <td>-98696.000000</td>\n",
       "      <td>-8851.000000</td>\n",
       "      <td>-44156.000000</td>\n",
       "      <td>-102362.000000</td>\n",
       "      <td>-0.002000</td>\n",
       "      <td>-0.002000</td>\n",
       "      <td>-19734.000000</td>\n",
       "      <td>-54122.000000</td>\n",
       "      <td>-43.906000</td>\n",
       "      <td>0.001300</td>\n",
       "      <td>0.000000</td>\n",
       "      <td>-4.756474</td>\n",
       "      <td>-55.591206</td>\n",
       "      <td>-2.218093</td>\n",
       "      <td>0.000008</td>\n",
       "      <td>-0.000020</td>\n",
       "    </tr>\n",
       "    <tr>\n",
       "      <th>25%</th>\n",
       "      <td>253.010000</td>\n",
       "      <td>109.694500</td>\n",
       "      <td>22.900500</td>\n",
       "      <td>0.000000</td>\n",
       "      <td>8.674000</td>\n",
       "      <td>74.797000</td>\n",
       "      <td>-2.570500</td>\n",
       "      <td>48.569500</td>\n",
       "      <td>94.391000</td>\n",
       "      <td>-3.443500</td>\n",
       "      <td>-3.904500</td>\n",
       "      <td>8.674000</td>\n",
       "      <td>-1.906500</td>\n",
       "      <td>-59.204500</td>\n",
       "      <td>212.708000</td>\n",
       "      <td>212.708000</td>\n",
       "      <td>34.941500</td>\n",
       "      <td>0.000000</td>\n",
       "      <td>183.701000</td>\n",
       "      <td>247.257800</td>\n",
       "      <td>0.000000</td>\n",
       "      <td>0.057624</td>\n",
       "      <td>-0.127166</td>\n",
       "      <td>0.026217</td>\n",
       "      <td>0.900691</td>\n",
       "      <td>0.491820</td>\n",
       "    </tr>\n",
       "    <tr>\n",
       "      <th>50%</th>\n",
       "      <td>665.297000</td>\n",
       "      <td>350.991000</td>\n",
       "      <td>44.283000</td>\n",
       "      <td>0.000000</td>\n",
       "      <td>47.547000</td>\n",
       "      <td>202.931000</td>\n",
       "      <td>21.507000</td>\n",
       "      <td>128.394000</td>\n",
       "      <td>323.232000</td>\n",
       "      <td>21.322000</td>\n",
       "      <td>21.004000</td>\n",
       "      <td>47.547000</td>\n",
       "      <td>31.243000</td>\n",
       "      <td>70.285000</td>\n",
       "      <td>597.779000</td>\n",
       "      <td>597.779000</td>\n",
       "      <td>109.757000</td>\n",
       "      <td>0.000000</td>\n",
       "      <td>494.496000</td>\n",
       "      <td>695.709200</td>\n",
       "      <td>0.000000</td>\n",
       "      <td>0.200202</td>\n",
       "      <td>0.128093</td>\n",
       "      <td>0.073382</td>\n",
       "      <td>2.062394</td>\n",
       "      <td>0.842522</td>\n",
       "    </tr>\n",
       "    <tr>\n",
       "      <th>75%</th>\n",
       "      <td>2266.698000</td>\n",
       "      <td>1240.225500</td>\n",
       "      <td>99.537000</td>\n",
       "      <td>0.000000</td>\n",
       "      <td>193.036000</td>\n",
       "      <td>643.293500</td>\n",
       "      <td>98.517000</td>\n",
       "      <td>443.099000</td>\n",
       "      <td>1272.518500</td>\n",
       "      <td>98.457000</td>\n",
       "      <td>98.081500</td>\n",
       "      <td>193.036000</td>\n",
       "      <td>142.839000</td>\n",
       "      <td>409.992000</td>\n",
       "      <td>1962.188000</td>\n",
       "      <td>1962.188000</td>\n",
       "      <td>301.532500</td>\n",
       "      <td>0.000000</td>\n",
       "      <td>1629.707000</td>\n",
       "      <td>2250.829250</td>\n",
       "      <td>0.000000</td>\n",
       "      <td>0.374881</td>\n",
       "      <td>0.348341</td>\n",
       "      <td>0.121601</td>\n",
       "      <td>5.004862</td>\n",
       "      <td>1.343228</td>\n",
       "    </tr>\n",
       "    <tr>\n",
       "      <th>max</th>\n",
       "      <td>331052.000000</td>\n",
       "      <td>346775.000000</td>\n",
       "      <td>10862.000000</td>\n",
       "      <td>340.000000</td>\n",
       "      <td>66290.000000</td>\n",
       "      <td>112370.000000</td>\n",
       "      <td>45220.000000</td>\n",
       "      <td>105501.634000</td>\n",
       "      <td>204822.718000</td>\n",
       "      <td>45220.000000</td>\n",
       "      <td>45220.000000</td>\n",
       "      <td>66290.000000</td>\n",
       "      <td>83397.000000</td>\n",
       "      <td>321816.000000</td>\n",
       "      <td>433526.000000</td>\n",
       "      <td>433526.000000</td>\n",
       "      <td>55597.000000</td>\n",
       "      <td>8313.000000</td>\n",
       "      <td>388666.000000</td>\n",
       "      <td>504239.580000</td>\n",
       "      <td>1.000000</td>\n",
       "      <td>0.999369</td>\n",
       "      <td>2.044237</td>\n",
       "      <td>1.271060</td>\n",
       "      <td>1945.385714</td>\n",
       "      <td>25.397335</td>\n",
       "    </tr>\n",
       "  </tbody>\n",
       "</table>\n",
       "</div>"
      ],
      "text/plain": [
       "                  at           cogs          csho           dvp          ebit  \\\n",
       "count   26819.000000   26819.000000  26819.000000  26819.000000  26819.000000   \n",
       "mean     3915.880813    2296.434405    142.212575      1.088146    370.051918   \n",
       "std     13419.380779   10071.695546    448.690088     11.656380   1648.483456   \n",
       "min       100.002000      -0.206000      0.001000  -1013.000000  -8851.000000   \n",
       "25%       253.010000     109.694500     22.900500      0.000000      8.674000   \n",
       "50%       665.297000     350.991000     44.283000      0.000000     47.547000   \n",
       "75%      2266.698000    1240.225500     99.537000      0.000000    193.036000   \n",
       "max    331052.000000  346775.000000  10862.000000    340.000000  66290.000000   \n",
       "\n",
       "                  gp            ib            lct             lt  \\\n",
       "count   26819.000000  26819.000000   26819.000000   26819.000000   \n",
       "mean     1079.752864    182.198410     858.276254    2353.328278   \n",
       "std      4097.193898   1216.434534    3287.416097    8189.983320   \n",
       "min     -6887.000000 -44574.000000       0.000000       0.070000   \n",
       "25%        74.797000     -2.570500      48.569500      94.391000   \n",
       "50%       202.931000     21.507000     128.394000     323.232000   \n",
       "75%       643.293500     98.517000     443.099000    1272.518500   \n",
       "max    112370.000000  45220.000000  105501.634000  204822.718000   \n",
       "\n",
       "                 ni         niadj         oiadp            pi             re  \\\n",
       "count  26819.000000  26819.000000  26819.000000  26819.000000   26819.000000   \n",
       "mean     177.498500    176.384387    370.051918    287.871638     676.185080   \n",
       "std     1369.879386   1369.599231   1648.483456   1823.769228    6423.763318   \n",
       "min   -98696.000000 -98696.000000  -8851.000000 -44156.000000 -102362.000000   \n",
       "25%       -3.443500     -3.904500      8.674000     -1.906500     -59.204500   \n",
       "50%       21.322000     21.004000     47.547000     31.243000      70.285000   \n",
       "75%       98.457000     98.081500    193.036000    142.839000     409.992000   \n",
       "max    45220.000000  45220.000000  66290.000000  83397.000000  321816.000000   \n",
       "\n",
       "                revt           sale          wcap          xido  \\\n",
       "count   26819.000000   26819.000000  26819.000000  26819.000000   \n",
       "mean     3376.187270    3376.187270    374.939495     -4.699910   \n",
       "std     13421.011817   13421.011817   1635.854193    404.576121   \n",
       "min        -0.002000      -0.002000 -19734.000000 -54122.000000   \n",
       "25%       212.708000     212.708000     34.941500      0.000000   \n",
       "50%       597.779000     597.779000    109.757000      0.000000   \n",
       "75%      1962.188000    1962.188000    301.532500      0.000000   \n",
       "max    433526.000000  433526.000000  55597.000000   8313.000000   \n",
       "\n",
       "                xopr         mkvalt      bankrupt     Altman_X1     Altman_X2  \\\n",
       "count   26819.000000   26819.000000  26819.000000  26819.000000  26819.000000   \n",
       "mean     2842.903636    4214.319994      0.006749      0.228964     -0.093309   \n",
       "std     11627.511520   16416.532733      0.081876      0.238151      1.366170   \n",
       "min       -43.906000       0.001300      0.000000     -4.756474    -55.591206   \n",
       "25%       183.701000     247.257800      0.000000      0.057624     -0.127166   \n",
       "50%       494.496000     695.709200      0.000000      0.200202      0.128093   \n",
       "75%      1629.707000    2250.829250      0.000000      0.374881      0.348341   \n",
       "max    388666.000000  504239.580000      1.000000      0.999369      2.044237   \n",
       "\n",
       "          Altman_X3     Altman_X4     Altman_X5  \n",
       "count  26819.000000  26819.000000  26819.000000  \n",
       "mean       0.063872      5.280239      1.033943  \n",
       "std        0.128516     23.276809      0.845404  \n",
       "min       -2.218093      0.000008     -0.000020  \n",
       "25%        0.026217      0.900691      0.491820  \n",
       "50%        0.073382      2.062394      0.842522  \n",
       "75%        0.121601      5.004862      1.343228  \n",
       "max        1.271060   1945.385714     25.397335  "
      ]
     },
     "execution_count": 50,
     "metadata": {},
     "output_type": "execute_result"
    }
   ],
   "source": [
    "train.describe()"
   ]
  },
  {
   "cell_type": "markdown",
   "metadata": {},
   "source": [
    "### 4.1 Data Preprocessing"
   ]
  },
  {
   "cell_type": "markdown",
   "metadata": {},
   "source": [
    "**Input Features:** \n",
    "- 5 financial ratios (numerical)\n",
    "- All accounting variables (numerical)\n",
    "- Industry classification code (categorical)\n",
    "\n",
    "**Problems:**\n",
    "- One problem with `sic` is that it has high cardinality (too many unique values). For categorical variables, the number of possible splits in a tree grows non-linearly with cardinality. Hence, this can be dealt with by mapping `sic` codes to their Industrial Division (maximum of 10 unique values - refer to sic-codes.csv file).\n",
    "- Since XGBoost cannot handle categorical features, I need to transform `sic` feature (i.e. its mapped `division` feature) by encoding.\n",
    "- Label encoding will be used for this assignment. With the [statistics on business bankruptcies by industry (2014 - 2018)](https://www.statista.com/statistics/1116955/share-business-bankruptcies-industry-united-states/), I will be encoding the `division` feature in order of share of bankruptcy cases filed between this period."
   ]
  },
  {
   "cell_type": "code",
   "execution_count": 51,
   "metadata": {},
   "outputs": [],
   "source": [
    "# Dropping columns that are not needed for training\n",
    "train = train.drop(['gvkey', 'datadate', 'conm'], axis=1)"
   ]
  },
  {
   "cell_type": "code",
   "execution_count": 52,
   "metadata": {},
   "outputs": [],
   "source": [
    "# Preparing dictionary for mapping `sic` to `division`\n",
    "div_sic_map = pd.read_csv('sic-codes.csv')\n",
    "div_sic_dict = pd.Series(div_sic_map.Division.values, index=div_sic_map.SIC).to_dict()"
   ]
  },
  {
   "cell_type": "code",
   "execution_count": 53,
   "metadata": {},
   "outputs": [
    {
     "name": "stdout",
     "output_type": "stream",
     "text": [
      "There are 158 sic codes that are not mapped.\n"
     ]
    }
   ],
   "source": [
    "sic_in_csv = [key for key in div_sic_dict]\n",
    "sic_in_df = list(train['sic'].unique())\n",
    "sic_missing = [sic for sic in sic_in_df if sic not in sic_in_csv]\n",
    "print(f'There are {len(sic_missing)} sic codes that are not mapped.')"
   ]
  },
  {
   "cell_type": "markdown",
   "metadata": {},
   "source": [
    "With missing sic codes in the csv, I will be manually mapping them to the following divisions based on their sic codes. Then, I will Label Encode based on their ranking by share of bankruptcy (2014-2018).\n",
    "\n",
    "| Division | Code | Industry Title | Share of Bankruptcy (2014-2018) | Ranking by Share of Bankruptcy |\n",
    "| --- | --- | --- | --- | --- |\n",
    "| A | 01-09 | Agriculture, Forestry, Fishing | 4.23% | 4 |\n",
    "| B | 10-14 | Mining | 0.85% | 1 |\n",
    "| C | 15-17 | Construction | 9.68% | 7 |\n",
    "| D | 20-39 | Manufacturing | 3.63% | 3 |\n",
    "| E | 40-49 | Transportation, Communications, Electric, Gas, Sanitary Services | 5.38% | 5 |\n",
    "| F | 50-51 | Wholesale Trade | 3.12% | 2 |\n",
    "| G | 52-59 | Retail Trade | 12.76% | 8 |\n",
    "| H | 60-67 | Finance, Insurance, Real Estate | 7.28% | 6 |\n",
    "| I | 70-89 | Services | 50.27% | 9 |\n",
    "| J | 90-99 | Public Administration | 0.04% | 0 |"
   ]
  },
  {
   "cell_type": "code",
   "execution_count": 54,
   "metadata": {},
   "outputs": [],
   "source": [
    "def map_sic(x):\n",
    "    code = str(x)[:-2]\n",
    "    if len(code) == 1:\n",
    "        # 01-09\n",
    "        return 'A'\n",
    "    else:\n",
    "        if code[0] == '1':\n",
    "            if int(code[1]) < 5:\n",
    "                # 10-14\n",
    "                return 'B'\n",
    "            else:\n",
    "                # 15-17\n",
    "                return 'C'\n",
    "        elif code[0] == '2' or code[0] == '3':\n",
    "            # 20-39\n",
    "            return 'D'\n",
    "        elif code[0] == '4':\n",
    "            # 40-49\n",
    "            return 'E'\n",
    "        elif code[0] == '5':\n",
    "            if int(code[1]) < 2:\n",
    "                # 50-51\n",
    "                return 'F'\n",
    "            else:\n",
    "                # 52-59\n",
    "                return 'G'\n",
    "        elif code[0] == '6':\n",
    "            # 60-67\n",
    "            return 'H'\n",
    "        elif code[0] == '7' or code[0] == '8':\n",
    "            # 70-89\n",
    "            return 'I'\n",
    "        else:\n",
    "            # 90-99\n",
    "            return 'J'"
   ]
  },
  {
   "cell_type": "code",
   "execution_count": 55,
   "metadata": {
    "scrolled": true
   },
   "outputs": [],
   "source": [
    "train['division'] = train['sic'].apply(lambda x: map_sic(x))\n",
    "train = train.drop(['sic'], axis=1)"
   ]
  },
  {
   "cell_type": "code",
   "execution_count": 56,
   "metadata": {},
   "outputs": [
    {
     "data": {
      "text/html": [
       "<div>\n",
       "<style scoped>\n",
       "    .dataframe tbody tr th:only-of-type {\n",
       "        vertical-align: middle;\n",
       "    }\n",
       "\n",
       "    .dataframe tbody tr th {\n",
       "        vertical-align: top;\n",
       "    }\n",
       "\n",
       "    .dataframe thead th {\n",
       "        text-align: right;\n",
       "    }\n",
       "</style>\n",
       "<table border=\"1\" class=\"dataframe\">\n",
       "  <thead>\n",
       "    <tr style=\"text-align: right;\">\n",
       "      <th></th>\n",
       "      <th>at</th>\n",
       "      <th>cogs</th>\n",
       "      <th>csho</th>\n",
       "      <th>dvp</th>\n",
       "      <th>ebit</th>\n",
       "      <th>gp</th>\n",
       "      <th>ib</th>\n",
       "      <th>lct</th>\n",
       "      <th>lt</th>\n",
       "      <th>ni</th>\n",
       "      <th>niadj</th>\n",
       "      <th>oiadp</th>\n",
       "      <th>pi</th>\n",
       "      <th>re</th>\n",
       "      <th>revt</th>\n",
       "      <th>sale</th>\n",
       "      <th>wcap</th>\n",
       "      <th>xido</th>\n",
       "      <th>xopr</th>\n",
       "      <th>mkvalt</th>\n",
       "      <th>bankrupt</th>\n",
       "      <th>Altman_X1</th>\n",
       "      <th>Altman_X2</th>\n",
       "      <th>Altman_X3</th>\n",
       "      <th>Altman_X4</th>\n",
       "      <th>Altman_X5</th>\n",
       "      <th>division</th>\n",
       "    </tr>\n",
       "  </thead>\n",
       "  <tbody>\n",
       "    <tr>\n",
       "      <th>0</th>\n",
       "      <td>15967.000</td>\n",
       "      <td>26094.000</td>\n",
       "      <td>407.000</td>\n",
       "      <td>0.0</td>\n",
       "      <td>1787.000</td>\n",
       "      <td>11837.000</td>\n",
       "      <td>501.000</td>\n",
       "      <td>3582.000</td>\n",
       "      <td>10052.000</td>\n",
       "      <td>501.000</td>\n",
       "      <td>501.000</td>\n",
       "      <td>1787.000</td>\n",
       "      <td>873.000</td>\n",
       "      <td>5414.000</td>\n",
       "      <td>37931.000</td>\n",
       "      <td>37931.000</td>\n",
       "      <td>1027.000</td>\n",
       "      <td>0.000</td>\n",
       "      <td>35118.000</td>\n",
       "      <td>11701.2500</td>\n",
       "      <td>0</td>\n",
       "      <td>0.064320</td>\n",
       "      <td>0.339074</td>\n",
       "      <td>0.111918</td>\n",
       "      <td>1.164072</td>\n",
       "      <td>2.375587</td>\n",
       "      <td>G</td>\n",
       "    </tr>\n",
       "    <tr>\n",
       "      <th>1</th>\n",
       "      <td>290.865</td>\n",
       "      <td>246.466</td>\n",
       "      <td>8.608</td>\n",
       "      <td>0.0</td>\n",
       "      <td>12.856</td>\n",
       "      <td>103.597</td>\n",
       "      <td>1.629</td>\n",
       "      <td>133.169</td>\n",
       "      <td>149.361</td>\n",
       "      <td>-22.709</td>\n",
       "      <td>-22.709</td>\n",
       "      <td>12.856</td>\n",
       "      <td>1.790</td>\n",
       "      <td>142.188</td>\n",
       "      <td>350.063</td>\n",
       "      <td>350.063</td>\n",
       "      <td>46.960</td>\n",
       "      <td>-24.338</td>\n",
       "      <td>326.107</td>\n",
       "      <td>101.5744</td>\n",
       "      <td>0</td>\n",
       "      <td>0.161449</td>\n",
       "      <td>0.488845</td>\n",
       "      <td>0.044199</td>\n",
       "      <td>0.680060</td>\n",
       "      <td>1.203524</td>\n",
       "      <td>I</td>\n",
       "    </tr>\n",
       "    <tr>\n",
       "      <th>2</th>\n",
       "      <td>307.329</td>\n",
       "      <td>325.912</td>\n",
       "      <td>8.163</td>\n",
       "      <td>0.0</td>\n",
       "      <td>22.236</td>\n",
       "      <td>138.591</td>\n",
       "      <td>22.554</td>\n",
       "      <td>66.035</td>\n",
       "      <td>159.356</td>\n",
       "      <td>22.309</td>\n",
       "      <td>22.309</td>\n",
       "      <td>22.236</td>\n",
       "      <td>30.007</td>\n",
       "      <td>134.708</td>\n",
       "      <td>464.503</td>\n",
       "      <td>464.503</td>\n",
       "      <td>92.256</td>\n",
       "      <td>-0.245</td>\n",
       "      <td>438.069</td>\n",
       "      <td>240.4004</td>\n",
       "      <td>0</td>\n",
       "      <td>0.300186</td>\n",
       "      <td>0.438319</td>\n",
       "      <td>0.072352</td>\n",
       "      <td>1.508575</td>\n",
       "      <td>1.511419</td>\n",
       "      <td>D</td>\n",
       "    </tr>\n",
       "    <tr>\n",
       "      <th>3</th>\n",
       "      <td>902.444</td>\n",
       "      <td>124.903</td>\n",
       "      <td>55.644</td>\n",
       "      <td>0.0</td>\n",
       "      <td>131.804</td>\n",
       "      <td>822.588</td>\n",
       "      <td>90.313</td>\n",
       "      <td>370.651</td>\n",
       "      <td>373.130</td>\n",
       "      <td>90.313</td>\n",
       "      <td>90.313</td>\n",
       "      <td>131.804</td>\n",
       "      <td>125.482</td>\n",
       "      <td>71.892</td>\n",
       "      <td>947.491</td>\n",
       "      <td>947.491</td>\n",
       "      <td>193.219</td>\n",
       "      <td>0.000</td>\n",
       "      <td>768.484</td>\n",
       "      <td>2281.4040</td>\n",
       "      <td>0</td>\n",
       "      <td>0.214106</td>\n",
       "      <td>0.079664</td>\n",
       "      <td>0.146052</td>\n",
       "      <td>6.114234</td>\n",
       "      <td>1.049917</td>\n",
       "      <td>I</td>\n",
       "    </tr>\n",
       "    <tr>\n",
       "      <th>4</th>\n",
       "      <td>700.898</td>\n",
       "      <td>1044.110</td>\n",
       "      <td>17.484</td>\n",
       "      <td>0.0</td>\n",
       "      <td>54.842</td>\n",
       "      <td>711.738</td>\n",
       "      <td>0.949</td>\n",
       "      <td>301.453</td>\n",
       "      <td>444.242</td>\n",
       "      <td>-3.962</td>\n",
       "      <td>-3.962</td>\n",
       "      <td>54.842</td>\n",
       "      <td>-5.675</td>\n",
       "      <td>145.053</td>\n",
       "      <td>1755.848</td>\n",
       "      <td>1755.848</td>\n",
       "      <td>225.457</td>\n",
       "      <td>-4.911</td>\n",
       "      <td>1674.299</td>\n",
       "      <td>278.6950</td>\n",
       "      <td>0</td>\n",
       "      <td>0.321669</td>\n",
       "      <td>0.206953</td>\n",
       "      <td>0.078245</td>\n",
       "      <td>0.627350</td>\n",
       "      <td>2.505141</td>\n",
       "      <td>D</td>\n",
       "    </tr>\n",
       "  </tbody>\n",
       "</table>\n",
       "</div>"
      ],
      "text/plain": [
       "          at       cogs     csho  dvp      ebit         gp       ib       lct  \\\n",
       "0  15967.000  26094.000  407.000  0.0  1787.000  11837.000  501.000  3582.000   \n",
       "1    290.865    246.466    8.608  0.0    12.856    103.597    1.629   133.169   \n",
       "2    307.329    325.912    8.163  0.0    22.236    138.591   22.554    66.035   \n",
       "3    902.444    124.903   55.644  0.0   131.804    822.588   90.313   370.651   \n",
       "4    700.898   1044.110   17.484  0.0    54.842    711.738    0.949   301.453   \n",
       "\n",
       "          lt       ni    niadj     oiadp       pi        re       revt  \\\n",
       "0  10052.000  501.000  501.000  1787.000  873.000  5414.000  37931.000   \n",
       "1    149.361  -22.709  -22.709    12.856    1.790   142.188    350.063   \n",
       "2    159.356   22.309   22.309    22.236   30.007   134.708    464.503   \n",
       "3    373.130   90.313   90.313   131.804  125.482    71.892    947.491   \n",
       "4    444.242   -3.962   -3.962    54.842   -5.675   145.053   1755.848   \n",
       "\n",
       "        sale      wcap    xido       xopr      mkvalt  bankrupt  Altman_X1  \\\n",
       "0  37931.000  1027.000   0.000  35118.000  11701.2500         0   0.064320   \n",
       "1    350.063    46.960 -24.338    326.107    101.5744         0   0.161449   \n",
       "2    464.503    92.256  -0.245    438.069    240.4004         0   0.300186   \n",
       "3    947.491   193.219   0.000    768.484   2281.4040         0   0.214106   \n",
       "4   1755.848   225.457  -4.911   1674.299    278.6950         0   0.321669   \n",
       "\n",
       "   Altman_X2  Altman_X3  Altman_X4  Altman_X5 division  \n",
       "0   0.339074   0.111918   1.164072   2.375587        G  \n",
       "1   0.488845   0.044199   0.680060   1.203524        I  \n",
       "2   0.438319   0.072352   1.508575   1.511419        D  \n",
       "3   0.079664   0.146052   6.114234   1.049917        I  \n",
       "4   0.206953   0.078245   0.627350   2.505141        D  "
      ]
     },
     "execution_count": 56,
     "metadata": {},
     "output_type": "execute_result"
    }
   ],
   "source": [
    "train.head()"
   ]
  },
  {
   "cell_type": "code",
   "execution_count": 57,
   "metadata": {},
   "outputs": [
    {
     "data": {
      "image/png": "[encoded data removed]",
      "text/plain": [
       "<Figure size 432x288 with 1 Axes>"
      ]
     },
     "metadata": {},
     "output_type": "display_data"
    }
   ],
   "source": [
    "# Visualising new categorical feature `division`\n",
    "data = train.division.value_counts().to_dict()\n",
    "div = list(data.keys())\n",
    "count = list(data.values())\n",
    "y_pos = np.arange(len(div))\n",
    "\n",
    "plt.bar(y_pos, count, align='center')\n",
    "plt.xticks(y_pos, div)\n",
    "plt.ylabel('Count')\n",
    "plt.title('Count per Division')\n",
    "\n",
    "plt.show()"
   ]
  },
  {
   "cell_type": "code",
   "execution_count": 58,
   "metadata": {},
   "outputs": [],
   "source": [
    "# Encoding `division` with rank by share of bankruptcy statistics \n",
    "# (the larger the value, the more likely company goes bankrupt)\n",
    "\n",
    "div_rank_map = {'A': 4,\n",
    "                'B': 1,\n",
    "                'C': 7,\n",
    "                'D': 3,\n",
    "                'E': 5,\n",
    "                'F': 2,\n",
    "                'G': 8,\n",
    "                'H': 6,\n",
    "                'I': 9,\n",
    "                'J': 0}"
   ]
  },
  {
   "cell_type": "code",
   "execution_count": 59,
   "metadata": {},
   "outputs": [],
   "source": [
    "def map_encode(x):\n",
    "    return div_rank_map[x]"
   ]
  },
  {
   "cell_type": "code",
   "execution_count": 60,
   "metadata": {},
   "outputs": [],
   "source": [
    "train['division_enc'] = train['division'].apply(lambda x: map_encode(x))\n",
    "train = train.drop(['division'], axis=1)"
   ]
  },
  {
   "cell_type": "code",
   "execution_count": 61,
   "metadata": {},
   "outputs": [
    {
     "data": {
      "text/html": [
       "<div>\n",
       "<style scoped>\n",
       "    .dataframe tbody tr th:only-of-type {\n",
       "        vertical-align: middle;\n",
       "    }\n",
       "\n",
       "    .dataframe tbody tr th {\n",
       "        vertical-align: top;\n",
       "    }\n",
       "\n",
       "    .dataframe thead th {\n",
       "        text-align: right;\n",
       "    }\n",
       "</style>\n",
       "<table border=\"1\" class=\"dataframe\">\n",
       "  <thead>\n",
       "    <tr style=\"text-align: right;\">\n",
       "      <th></th>\n",
       "      <th>at</th>\n",
       "      <th>cogs</th>\n",
       "      <th>csho</th>\n",
       "      <th>dvp</th>\n",
       "      <th>ebit</th>\n",
       "      <th>gp</th>\n",
       "      <th>ib</th>\n",
       "      <th>lct</th>\n",
       "      <th>lt</th>\n",
       "      <th>ni</th>\n",
       "      <th>niadj</th>\n",
       "      <th>oiadp</th>\n",
       "      <th>pi</th>\n",
       "      <th>re</th>\n",
       "      <th>revt</th>\n",
       "      <th>sale</th>\n",
       "      <th>wcap</th>\n",
       "      <th>xido</th>\n",
       "      <th>xopr</th>\n",
       "      <th>mkvalt</th>\n",
       "      <th>bankrupt</th>\n",
       "      <th>Altman_X1</th>\n",
       "      <th>Altman_X2</th>\n",
       "      <th>Altman_X3</th>\n",
       "      <th>Altman_X4</th>\n",
       "      <th>Altman_X5</th>\n",
       "      <th>division_enc</th>\n",
       "    </tr>\n",
       "  </thead>\n",
       "  <tbody>\n",
       "    <tr>\n",
       "      <th>0</th>\n",
       "      <td>15967.000</td>\n",
       "      <td>26094.000</td>\n",
       "      <td>407.000</td>\n",
       "      <td>0.0</td>\n",
       "      <td>1787.000</td>\n",
       "      <td>11837.000</td>\n",
       "      <td>501.000</td>\n",
       "      <td>3582.000</td>\n",
       "      <td>10052.000</td>\n",
       "      <td>501.000</td>\n",
       "      <td>501.000</td>\n",
       "      <td>1787.000</td>\n",
       "      <td>873.000</td>\n",
       "      <td>5414.000</td>\n",
       "      <td>37931.000</td>\n",
       "      <td>37931.000</td>\n",
       "      <td>1027.000</td>\n",
       "      <td>0.000</td>\n",
       "      <td>35118.000</td>\n",
       "      <td>11701.2500</td>\n",
       "      <td>0</td>\n",
       "      <td>0.064320</td>\n",
       "      <td>0.339074</td>\n",
       "      <td>0.111918</td>\n",
       "      <td>1.164072</td>\n",
       "      <td>2.375587</td>\n",
       "      <td>8</td>\n",
       "    </tr>\n",
       "    <tr>\n",
       "      <th>1</th>\n",
       "      <td>290.865</td>\n",
       "      <td>246.466</td>\n",
       "      <td>8.608</td>\n",
       "      <td>0.0</td>\n",
       "      <td>12.856</td>\n",
       "      <td>103.597</td>\n",
       "      <td>1.629</td>\n",
       "      <td>133.169</td>\n",
       "      <td>149.361</td>\n",
       "      <td>-22.709</td>\n",
       "      <td>-22.709</td>\n",
       "      <td>12.856</td>\n",
       "      <td>1.790</td>\n",
       "      <td>142.188</td>\n",
       "      <td>350.063</td>\n",
       "      <td>350.063</td>\n",
       "      <td>46.960</td>\n",
       "      <td>-24.338</td>\n",
       "      <td>326.107</td>\n",
       "      <td>101.5744</td>\n",
       "      <td>0</td>\n",
       "      <td>0.161449</td>\n",
       "      <td>0.488845</td>\n",
       "      <td>0.044199</td>\n",
       "      <td>0.680060</td>\n",
       "      <td>1.203524</td>\n",
       "      <td>9</td>\n",
       "    </tr>\n",
       "    <tr>\n",
       "      <th>2</th>\n",
       "      <td>307.329</td>\n",
       "      <td>325.912</td>\n",
       "      <td>8.163</td>\n",
       "      <td>0.0</td>\n",
       "      <td>22.236</td>\n",
       "      <td>138.591</td>\n",
       "      <td>22.554</td>\n",
       "      <td>66.035</td>\n",
       "      <td>159.356</td>\n",
       "      <td>22.309</td>\n",
       "      <td>22.309</td>\n",
       "      <td>22.236</td>\n",
       "      <td>30.007</td>\n",
       "      <td>134.708</td>\n",
       "      <td>464.503</td>\n",
       "      <td>464.503</td>\n",
       "      <td>92.256</td>\n",
       "      <td>-0.245</td>\n",
       "      <td>438.069</td>\n",
       "      <td>240.4004</td>\n",
       "      <td>0</td>\n",
       "      <td>0.300186</td>\n",
       "      <td>0.438319</td>\n",
       "      <td>0.072352</td>\n",
       "      <td>1.508575</td>\n",
       "      <td>1.511419</td>\n",
       "      <td>3</td>\n",
       "    </tr>\n",
       "    <tr>\n",
       "      <th>3</th>\n",
       "      <td>902.444</td>\n",
       "      <td>124.903</td>\n",
       "      <td>55.644</td>\n",
       "      <td>0.0</td>\n",
       "      <td>131.804</td>\n",
       "      <td>822.588</td>\n",
       "      <td>90.313</td>\n",
       "      <td>370.651</td>\n",
       "      <td>373.130</td>\n",
       "      <td>90.313</td>\n",
       "      <td>90.313</td>\n",
       "      <td>131.804</td>\n",
       "      <td>125.482</td>\n",
       "      <td>71.892</td>\n",
       "      <td>947.491</td>\n",
       "      <td>947.491</td>\n",
       "      <td>193.219</td>\n",
       "      <td>0.000</td>\n",
       "      <td>768.484</td>\n",
       "      <td>2281.4040</td>\n",
       "      <td>0</td>\n",
       "      <td>0.214106</td>\n",
       "      <td>0.079664</td>\n",
       "      <td>0.146052</td>\n",
       "      <td>6.114234</td>\n",
       "      <td>1.049917</td>\n",
       "      <td>9</td>\n",
       "    </tr>\n",
       "    <tr>\n",
       "      <th>4</th>\n",
       "      <td>700.898</td>\n",
       "      <td>1044.110</td>\n",
       "      <td>17.484</td>\n",
       "      <td>0.0</td>\n",
       "      <td>54.842</td>\n",
       "      <td>711.738</td>\n",
       "      <td>0.949</td>\n",
       "      <td>301.453</td>\n",
       "      <td>444.242</td>\n",
       "      <td>-3.962</td>\n",
       "      <td>-3.962</td>\n",
       "      <td>54.842</td>\n",
       "      <td>-5.675</td>\n",
       "      <td>145.053</td>\n",
       "      <td>1755.848</td>\n",
       "      <td>1755.848</td>\n",
       "      <td>225.457</td>\n",
       "      <td>-4.911</td>\n",
       "      <td>1674.299</td>\n",
       "      <td>278.6950</td>\n",
       "      <td>0</td>\n",
       "      <td>0.321669</td>\n",
       "      <td>0.206953</td>\n",
       "      <td>0.078245</td>\n",
       "      <td>0.627350</td>\n",
       "      <td>2.505141</td>\n",
       "      <td>3</td>\n",
       "    </tr>\n",
       "  </tbody>\n",
       "</table>\n",
       "</div>"
      ],
      "text/plain": [
       "          at       cogs     csho  dvp      ebit         gp       ib       lct  \\\n",
       "0  15967.000  26094.000  407.000  0.0  1787.000  11837.000  501.000  3582.000   \n",
       "1    290.865    246.466    8.608  0.0    12.856    103.597    1.629   133.169   \n",
       "2    307.329    325.912    8.163  0.0    22.236    138.591   22.554    66.035   \n",
       "3    902.444    124.903   55.644  0.0   131.804    822.588   90.313   370.651   \n",
       "4    700.898   1044.110   17.484  0.0    54.842    711.738    0.949   301.453   \n",
       "\n",
       "          lt       ni    niadj     oiadp       pi        re       revt  \\\n",
       "0  10052.000  501.000  501.000  1787.000  873.000  5414.000  37931.000   \n",
       "1    149.361  -22.709  -22.709    12.856    1.790   142.188    350.063   \n",
       "2    159.356   22.309   22.309    22.236   30.007   134.708    464.503   \n",
       "3    373.130   90.313   90.313   131.804  125.482    71.892    947.491   \n",
       "4    444.242   -3.962   -3.962    54.842   -5.675   145.053   1755.848   \n",
       "\n",
       "        sale      wcap    xido       xopr      mkvalt  bankrupt  Altman_X1  \\\n",
       "0  37931.000  1027.000   0.000  35118.000  11701.2500         0   0.064320   \n",
       "1    350.063    46.960 -24.338    326.107    101.5744         0   0.161449   \n",
       "2    464.503    92.256  -0.245    438.069    240.4004         0   0.300186   \n",
       "3    947.491   193.219   0.000    768.484   2281.4040         0   0.214106   \n",
       "4   1755.848   225.457  -4.911   1674.299    278.6950         0   0.321669   \n",
       "\n",
       "   Altman_X2  Altman_X3  Altman_X4  Altman_X5  division_enc  \n",
       "0   0.339074   0.111918   1.164072   2.375587             8  \n",
       "1   0.488845   0.044199   0.680060   1.203524             9  \n",
       "2   0.438319   0.072352   1.508575   1.511419             3  \n",
       "3   0.079664   0.146052   6.114234   1.049917             9  \n",
       "4   0.206953   0.078245   0.627350   2.505141             3  "
      ]
     },
     "execution_count": 61,
     "metadata": {},
     "output_type": "execute_result"
    }
   ],
   "source": [
    "train.head()"
   ]
  },
  {
   "cell_type": "code",
   "execution_count": 62,
   "metadata": {},
   "outputs": [
    {
     "data": {
      "image/png": "[encoded data removed]",
      "text/plain": [
       "<Figure size 432x288 with 1 Axes>"
      ]
     },
     "metadata": {},
     "output_type": "display_data"
    }
   ],
   "source": [
    "# Visualising new categorical feature `division_enc`\n",
    "data = train.division_enc.value_counts().to_dict()\n",
    "div = list(data.keys())\n",
    "count = list(data.values())\n",
    "y_pos = np.arange(len(div))\n",
    "\n",
    "plt.bar(y_pos, count, align='center')\n",
    "plt.xticks(y_pos, div)\n",
    "plt.ylabel('Count')\n",
    "plt.title('Count per Division')\n",
    "\n",
    "plt.show()"
   ]
  },
  {
   "cell_type": "code",
   "execution_count": 63,
   "metadata": {},
   "outputs": [],
   "source": [
    "x_var = list(train.columns.drop(['bankrupt']))\n",
    "y_var = 'bankrupt'"
   ]
  },
  {
   "cell_type": "markdown",
   "metadata": {},
   "source": [
    "### 4.2 Narrowing Hyperparameter Search Space with RandomizedSearch"
   ]
  },
  {
   "cell_type": "markdown",
   "metadata": {},
   "source": [
    "Randomised Search defines a search space as a bounded domain of hyperparameter values and randomly sample points in that domain. It is a good method to find the best baseline hyperparameter. It is computationally less expensive compared to other baseline methods like Grid Search. Tests have also shown that Randomised Search is able to produce the best results most of the time.\n",
    "\n",
    "I will be using this method to narrow down the search space before proceeding to tune the values of each hyperparameter with Hyperopt."
   ]
  },
  {
   "cell_type": "code",
   "execution_count": 130,
   "metadata": {},
   "outputs": [],
   "source": [
    "clf_xgb = XGBClassifier(objective = 'binary:logistic', n_jobs=4)\n",
    "param_dist = {'n_estimators': stats.randint(100, 1000),\n",
    "              'learning_rate': stats.uniform(0.01, 0.6),\n",
    "              'subsample': stats.uniform(0.1, 1.0),\n",
    "              'max_depth': [i for i in range(1, 33)],\n",
    "              'colsample_bytree': stats.uniform(0.1, 1.0),\n",
    "              'colsample_bylevel': stats.uniform(0.1, 1.0),\n",
    "              'colsample_bynode': stats.uniform(0.1, 1.0),\n",
    "              'min_child_weight': [1, 2, 3, 4, 5],\n",
    "              'gamma': stats.randint(0, 20),\n",
    "              'reg_lambda': stats.randint(1, 10),\n",
    "              'reg_alpha': stats.uniform(0.01, 0.1),\n",
    "              'scale_pos_weight': stats.randint(1, 100),\n",
    "              'booster': ['gbtree', 'dart', 'gblinear']\n",
    "             }\n",
    "\n",
    "kf = StratifiedKFold(shuffle=False, n_splits=5)\n",
    "\n",
    "clf = RandomizedSearchCV(clf_xgb, \n",
    "                         param_distributions=param_dist,\n",
    "                         cv=kf,  \n",
    "                         n_iter=100,\n",
    "                         scoring='roc_auc', \n",
    "                         error_score=0, \n",
    "                         verbose=3, \n",
    "                         n_jobs=4,\n",
    "                         random_state=SEED,\n",
    "                         return_train_score=True)"
   ]
  },
  {
   "cell_type": "code",
   "execution_count": 131,
   "metadata": {},
   "outputs": [
    {
     "name": "stdout",
     "output_type": "stream",
     "text": [
      "Fitting 5 folds for each of 100 candidates, totalling 500 fits\n"
     ]
    },
    {
     "name": "stderr",
     "output_type": "stream",
     "text": [
      "[Parallel(n_jobs=4)]: Using backend LokyBackend with 4 concurrent workers.\n",
      "[Parallel(n_jobs=4)]: Done  24 tasks      | elapsed:  5.3min\n",
      "[Parallel(n_jobs=4)]: Done 120 tasks      | elapsed: 23.6min\n",
      "[Parallel(n_jobs=4)]: Done 280 tasks      | elapsed: 73.3min\n",
      "[Parallel(n_jobs=4)]: Done 500 out of 500 | elapsed: 110.0min finished\n"
     ]
    }
   ],
   "source": [
    "search = clf.fit(train[x_var], train[y_var])"
   ]
  },
  {
   "cell_type": "code",
   "execution_count": 134,
   "metadata": {},
   "outputs": [],
   "source": [
    "top_5_params = pd.DataFrame(search.cv_results_).sort_values(by='rank_test_score').iloc[:5, :]"
   ]
  },
  {
   "cell_type": "code",
   "execution_count": 144,
   "metadata": {},
   "outputs": [],
   "source": [
    "top_5_params = top_5_params.iloc[:,4:18].transpose()"
   ]
  },
  {
   "cell_type": "code",
   "execution_count": 145,
   "metadata": {},
   "outputs": [
    {
     "data": {
      "text/html": [
       "<div>\n",
       "<style scoped>\n",
       "    .dataframe tbody tr th:only-of-type {\n",
       "        vertical-align: middle;\n",
       "    }\n",
       "\n",
       "    .dataframe tbody tr th {\n",
       "        vertical-align: top;\n",
       "    }\n",
       "\n",
       "    .dataframe thead th {\n",
       "        text-align: right;\n",
       "    }\n",
       "</style>\n",
       "<table border=\"1\" class=\"dataframe\">\n",
       "  <thead>\n",
       "    <tr style=\"text-align: right;\">\n",
       "      <th></th>\n",
       "      <th>82</th>\n",
       "      <th>13</th>\n",
       "      <th>70</th>\n",
       "      <th>61</th>\n",
       "      <th>40</th>\n",
       "    </tr>\n",
       "  </thead>\n",
       "  <tbody>\n",
       "    <tr>\n",
       "      <th>param_booster</th>\n",
       "      <td>gbtree</td>\n",
       "      <td>gbtree</td>\n",
       "      <td>gbtree</td>\n",
       "      <td>gbtree</td>\n",
       "      <td>gbtree</td>\n",
       "    </tr>\n",
       "    <tr>\n",
       "      <th>param_colsample_bylevel</th>\n",
       "      <td>0.478581</td>\n",
       "      <td>0.528382</td>\n",
       "      <td>0.844061</td>\n",
       "      <td>0.277161</td>\n",
       "      <td>0.846938</td>\n",
       "    </tr>\n",
       "    <tr>\n",
       "      <th>param_colsample_bynode</th>\n",
       "      <td>0.288194</td>\n",
       "      <td>0.461904</td>\n",
       "      <td>0.427867</td>\n",
       "      <td>0.672405</td>\n",
       "      <td>0.552405</td>\n",
       "    </tr>\n",
       "    <tr>\n",
       "      <th>param_colsample_bytree</th>\n",
       "      <td>0.847005</td>\n",
       "      <td>0.253338</td>\n",
       "      <td>0.344692</td>\n",
       "      <td>0.144845</td>\n",
       "      <td>0.550087</td>\n",
       "    </tr>\n",
       "    <tr>\n",
       "      <th>param_gamma</th>\n",
       "      <td>19</td>\n",
       "      <td>8</td>\n",
       "      <td>15</td>\n",
       "      <td>19</td>\n",
       "      <td>12</td>\n",
       "    </tr>\n",
       "    <tr>\n",
       "      <th>param_learning_rate</th>\n",
       "      <td>0.0488754</td>\n",
       "      <td>0.0367311</td>\n",
       "      <td>0.261147</td>\n",
       "      <td>0.123764</td>\n",
       "      <td>0.294402</td>\n",
       "    </tr>\n",
       "    <tr>\n",
       "      <th>param_max_depth</th>\n",
       "      <td>29</td>\n",
       "      <td>1</td>\n",
       "      <td>7</td>\n",
       "      <td>6</td>\n",
       "      <td>1</td>\n",
       "    </tr>\n",
       "    <tr>\n",
       "      <th>param_min_child_weight</th>\n",
       "      <td>2</td>\n",
       "      <td>1</td>\n",
       "      <td>3</td>\n",
       "      <td>3</td>\n",
       "      <td>2</td>\n",
       "    </tr>\n",
       "    <tr>\n",
       "      <th>param_n_estimators</th>\n",
       "      <td>787</td>\n",
       "      <td>696</td>\n",
       "      <td>840</td>\n",
       "      <td>354</td>\n",
       "      <td>652</td>\n",
       "    </tr>\n",
       "    <tr>\n",
       "      <th>param_reg_alpha</th>\n",
       "      <td>0.0625669</td>\n",
       "      <td>0.0716329</td>\n",
       "      <td>0.0486599</td>\n",
       "      <td>0.036126</td>\n",
       "      <td>0.08795</td>\n",
       "    </tr>\n",
       "    <tr>\n",
       "      <th>param_reg_lambda</th>\n",
       "      <td>9</td>\n",
       "      <td>1</td>\n",
       "      <td>4</td>\n",
       "      <td>2</td>\n",
       "      <td>7</td>\n",
       "    </tr>\n",
       "    <tr>\n",
       "      <th>param_scale_pos_weight</th>\n",
       "      <td>60</td>\n",
       "      <td>84</td>\n",
       "      <td>65</td>\n",
       "      <td>47</td>\n",
       "      <td>34</td>\n",
       "    </tr>\n",
       "    <tr>\n",
       "      <th>param_subsample</th>\n",
       "      <td>0.744232</td>\n",
       "      <td>0.171974</td>\n",
       "      <td>0.992901</td>\n",
       "      <td>0.647591</td>\n",
       "      <td>0.75369</td>\n",
       "    </tr>\n",
       "    <tr>\n",
       "      <th>params</th>\n",
       "      <td>{'booster': 'gbtree', 'colsample_bylevel': 0.4785805932506022, 'colsample_bynode': 0.2881942600298212, 'colsample_bytree': 0.8470048290299451, 'gamma': 19, 'learning_rate': 0.048875444808458485, 'max_depth': 29, 'min_child_weight': 2, 'n_estimators': 787, 'reg_alpha': 0.06256694443509794, 'reg_lambda': 9, 'scale_pos_weight': 60, 'subsample': 0.7442320198790318}</td>\n",
       "      <td>{'booster': 'gbtree', 'colsample_bylevel': 0.5283824051652493, 'colsample_bynode': 0.4619044427567548, 'colsample_bytree': 0.2533384779195744, 'gamma': 8, 'learning_rate': 0.036731127126857034, 'max_depth': 1, 'min_child_weight': 1, 'n_estimators': 696, 'reg_alpha': 0.07163289451076758, 'reg_lambda': 1, 'scale_pos_weight': 84, 'subsample': 0.17197427968948678}</td>\n",
       "      <td>{'booster': 'gbtree', 'colsample_bylevel': 0.8440612531898167, 'colsample_bynode': 0.42786732533235206, 'colsample_bytree': 0.3446922276668436, 'gamma': 15, 'learning_rate': 0.2611468154584592, 'max_depth': 7, 'min_child_weight': 3, 'n_estimators': 840, 'reg_alpha': 0.048659862805710746, 'reg_lambda': 4, 'scale_pos_weight': 65, 'subsample': 0.992900898791767}</td>\n",
       "      <td>{'booster': 'gbtree', 'colsample_bylevel': 0.2771611644384173, 'colsample_bynode': 0.6724051124346493, 'colsample_bytree': 0.14484533458908813, 'gamma': 19, 'learning_rate': 0.12376356869097792, 'max_depth': 6, 'min_child_weight': 3, 'n_estimators': 354, 'reg_alpha': 0.036126036458527425, 'reg_lambda': 2, 'scale_pos_weight': 47, 'subsample': 0.6475914534866515}</td>\n",
       "      <td>{'booster': 'gbtree', 'colsample_bylevel': 0.8469384956075251, 'colsample_bynode': 0.5524048267464515, 'colsample_bytree': 0.5500867470007611, 'gamma': 12, 'learning_rate': 0.2944023559373164, 'max_depth': 1, 'min_child_weight': 2, 'n_estimators': 652, 'reg_alpha': 0.0879500193183766, 'reg_lambda': 7, 'scale_pos_weight': 34, 'subsample': 0.7536897553047116}</td>\n",
       "    </tr>\n",
       "  </tbody>\n",
       "</table>\n",
       "</div>"
      ],
      "text/plain": [
       "                                                                                                                                                                                                                                                                                                                                                                                                  82  \\\n",
       "param_booster                                                                                                                                                                                                                                                                                                                                                                                 gbtree   \n",
       "param_colsample_bylevel                                                                                                                                                                                                                                                                                                                                                                     0.478581   \n",
       "param_colsample_bynode                                                                                                                                                                                                                                                                                                                                                                      0.288194   \n",
       "param_colsample_bytree                                                                                                                                                                                                                                                                                                                                                                      0.847005   \n",
       "param_gamma                                                                                                                                                                                                                                                                                                                                                                                       19   \n",
       "param_learning_rate                                                                                                                                                                                                                                                                                                                                                                        0.0488754   \n",
       "param_max_depth                                                                                                                                                                                                                                                                                                                                                                                   29   \n",
       "param_min_child_weight                                                                                                                                                                                                                                                                                                                                                                             2   \n",
       "param_n_estimators                                                                                                                                                                                                                                                                                                                                                                               787   \n",
       "param_reg_alpha                                                                                                                                                                                                                                                                                                                                                                            0.0625669   \n",
       "param_reg_lambda                                                                                                                                                                                                                                                                                                                                                                                   9   \n",
       "param_scale_pos_weight                                                                                                                                                                                                                                                                                                                                                                            60   \n",
       "param_subsample                                                                                                                                                                                                                                                                                                                                                                             0.744232   \n",
       "params                   {'booster': 'gbtree', 'colsample_bylevel': 0.4785805932506022, 'colsample_bynode': 0.2881942600298212, 'colsample_bytree': 0.8470048290299451, 'gamma': 19, 'learning_rate': 0.048875444808458485, 'max_depth': 29, 'min_child_weight': 2, 'n_estimators': 787, 'reg_alpha': 0.06256694443509794, 'reg_lambda': 9, 'scale_pos_weight': 60, 'subsample': 0.7442320198790318}   \n",
       "\n",
       "                                                                                                                                                                                                                                                                                                                                                                                                 13  \\\n",
       "param_booster                                                                                                                                                                                                                                                                                                                                                                                gbtree   \n",
       "param_colsample_bylevel                                                                                                                                                                                                                                                                                                                                                                    0.528382   \n",
       "param_colsample_bynode                                                                                                                                                                                                                                                                                                                                                                     0.461904   \n",
       "param_colsample_bytree                                                                                                                                                                                                                                                                                                                                                                     0.253338   \n",
       "param_gamma                                                                                                                                                                                                                                                                                                                                                                                       8   \n",
       "param_learning_rate                                                                                                                                                                                                                                                                                                                                                                       0.0367311   \n",
       "param_max_depth                                                                                                                                                                                                                                                                                                                                                                                   1   \n",
       "param_min_child_weight                                                                                                                                                                                                                                                                                                                                                                            1   \n",
       "param_n_estimators                                                                                                                                                                                                                                                                                                                                                                              696   \n",
       "param_reg_alpha                                                                                                                                                                                                                                                                                                                                                                           0.0716329   \n",
       "param_reg_lambda                                                                                                                                                                                                                                                                                                                                                                                  1   \n",
       "param_scale_pos_weight                                                                                                                                                                                                                                                                                                                                                                           84   \n",
       "param_subsample                                                                                                                                                                                                                                                                                                                                                                            0.171974   \n",
       "params                   {'booster': 'gbtree', 'colsample_bylevel': 0.5283824051652493, 'colsample_bynode': 0.4619044427567548, 'colsample_bytree': 0.2533384779195744, 'gamma': 8, 'learning_rate': 0.036731127126857034, 'max_depth': 1, 'min_child_weight': 1, 'n_estimators': 696, 'reg_alpha': 0.07163289451076758, 'reg_lambda': 1, 'scale_pos_weight': 84, 'subsample': 0.17197427968948678}   \n",
       "\n",
       "                                                                                                                                                                                                                                                                                                                                                                                                70  \\\n",
       "param_booster                                                                                                                                                                                                                                                                                                                                                                               gbtree   \n",
       "param_colsample_bylevel                                                                                                                                                                                                                                                                                                                                                                   0.844061   \n",
       "param_colsample_bynode                                                                                                                                                                                                                                                                                                                                                                    0.427867   \n",
       "param_colsample_bytree                                                                                                                                                                                                                                                                                                                                                                    0.344692   \n",
       "param_gamma                                                                                                                                                                                                                                                                                                                                                                                     15   \n",
       "param_learning_rate                                                                                                                                                                                                                                                                                                                                                                       0.261147   \n",
       "param_max_depth                                                                                                                                                                                                                                                                                                                                                                                  7   \n",
       "param_min_child_weight                                                                                                                                                                                                                                                                                                                                                                           3   \n",
       "param_n_estimators                                                                                                                                                                                                                                                                                                                                                                             840   \n",
       "param_reg_alpha                                                                                                                                                                                                                                                                                                                                                                          0.0486599   \n",
       "param_reg_lambda                                                                                                                                                                                                                                                                                                                                                                                 4   \n",
       "param_scale_pos_weight                                                                                                                                                                                                                                                                                                                                                                          65   \n",
       "param_subsample                                                                                                                                                                                                                                                                                                                                                                           0.992901   \n",
       "params                   {'booster': 'gbtree', 'colsample_bylevel': 0.8440612531898167, 'colsample_bynode': 0.42786732533235206, 'colsample_bytree': 0.3446922276668436, 'gamma': 15, 'learning_rate': 0.2611468154584592, 'max_depth': 7, 'min_child_weight': 3, 'n_estimators': 840, 'reg_alpha': 0.048659862805710746, 'reg_lambda': 4, 'scale_pos_weight': 65, 'subsample': 0.992900898791767}   \n",
       "\n",
       "                                                                                                                                                                                                                                                                                                                                                                                                  61  \\\n",
       "param_booster                                                                                                                                                                                                                                                                                                                                                                                 gbtree   \n",
       "param_colsample_bylevel                                                                                                                                                                                                                                                                                                                                                                     0.277161   \n",
       "param_colsample_bynode                                                                                                                                                                                                                                                                                                                                                                      0.672405   \n",
       "param_colsample_bytree                                                                                                                                                                                                                                                                                                                                                                      0.144845   \n",
       "param_gamma                                                                                                                                                                                                                                                                                                                                                                                       19   \n",
       "param_learning_rate                                                                                                                                                                                                                                                                                                                                                                         0.123764   \n",
       "param_max_depth                                                                                                                                                                                                                                                                                                                                                                                    6   \n",
       "param_min_child_weight                                                                                                                                                                                                                                                                                                                                                                             3   \n",
       "param_n_estimators                                                                                                                                                                                                                                                                                                                                                                               354   \n",
       "param_reg_alpha                                                                                                                                                                                                                                                                                                                                                                             0.036126   \n",
       "param_reg_lambda                                                                                                                                                                                                                                                                                                                                                                                   2   \n",
       "param_scale_pos_weight                                                                                                                                                                                                                                                                                                                                                                            47   \n",
       "param_subsample                                                                                                                                                                                                                                                                                                                                                                             0.647591   \n",
       "params                   {'booster': 'gbtree', 'colsample_bylevel': 0.2771611644384173, 'colsample_bynode': 0.6724051124346493, 'colsample_bytree': 0.14484533458908813, 'gamma': 19, 'learning_rate': 0.12376356869097792, 'max_depth': 6, 'min_child_weight': 3, 'n_estimators': 354, 'reg_alpha': 0.036126036458527425, 'reg_lambda': 2, 'scale_pos_weight': 47, 'subsample': 0.6475914534866515}   \n",
       "\n",
       "                                                                                                                                                                                                                                                                                                                                                                                              40  \n",
       "param_booster                                                                                                                                                                                                                                                                                                                                                                             gbtree  \n",
       "param_colsample_bylevel                                                                                                                                                                                                                                                                                                                                                                 0.846938  \n",
       "param_colsample_bynode                                                                                                                                                                                                                                                                                                                                                                  0.552405  \n",
       "param_colsample_bytree                                                                                                                                                                                                                                                                                                                                                                  0.550087  \n",
       "param_gamma                                                                                                                                                                                                                                                                                                                                                                                   12  \n",
       "param_learning_rate                                                                                                                                                                                                                                                                                                                                                                     0.294402  \n",
       "param_max_depth                                                                                                                                                                                                                                                                                                                                                                                1  \n",
       "param_min_child_weight                                                                                                                                                                                                                                                                                                                                                                         2  \n",
       "param_n_estimators                                                                                                                                                                                                                                                                                                                                                                           652  \n",
       "param_reg_alpha                                                                                                                                                                                                                                                                                                                                                                          0.08795  \n",
       "param_reg_lambda                                                                                                                                                                                                                                                                                                                                                                               7  \n",
       "param_scale_pos_weight                                                                                                                                                                                                                                                                                                                                                                        34  \n",
       "param_subsample                                                                                                                                                                                                                                                                                                                                                                          0.75369  \n",
       "params                   {'booster': 'gbtree', 'colsample_bylevel': 0.8469384956075251, 'colsample_bynode': 0.5524048267464515, 'colsample_bytree': 0.5500867470007611, 'gamma': 12, 'learning_rate': 0.2944023559373164, 'max_depth': 1, 'min_child_weight': 2, 'n_estimators': 652, 'reg_alpha': 0.0879500193183766, 'reg_lambda': 7, 'scale_pos_weight': 34, 'subsample': 0.7536897553047116}  "
      ]
     },
     "execution_count": 145,
     "metadata": {},
     "output_type": "execute_result"
    }
   ],
   "source": [
    "top_5_params"
   ]
  },
  {
   "cell_type": "code",
   "execution_count": 165,
   "metadata": {},
   "outputs": [],
   "source": [
    "# 5-fold cross-validation for each set of hyperparameters\n",
    "params_auc = {'params': [], 'auc': []}\n",
    "for i in top_5_params.columns:\n",
    "    curr_params = top_5_params[i][-1]\n",
    "    all_y_preds = []\n",
    "    all_y_proba = []\n",
    "    all_y_true = []\n",
    "\n",
    "    for train_index, test_index in kf.split(train[x_var], train[y_var]):\n",
    "        curr_train, curr_test = train.iloc[train_index], train.iloc[test_index]\n",
    "        X_train = curr_train[x_var]\n",
    "        y_train = curr_train[y_var]\n",
    "\n",
    "        X_test = curr_test[x_var]\n",
    "        y_test = curr_test[y_var]\n",
    "\n",
    "        xg_clf = XGBClassifier(objective = 'binary:logistic', n_jobs=4, **curr_params, random_state=SEED)\n",
    "        xg_clf.fit(X_train, y_train)\n",
    "        y_preds = xg_clf.predict(X_test)\n",
    "        y_proba = xg_clf.predict_proba(X_test)\n",
    "        all_y_preds.extend(y_preds)\n",
    "        all_y_proba.extend(y_proba[:, 1])\n",
    "        all_y_true.extend(y_test)\n",
    "\n",
    "    auc_score = roc_auc_score(all_y_true, all_y_preds)\n",
    "    params_auc['params'].append(curr_params)\n",
    "    params_auc['auc'].append(auc_score)"
   ]
  },
  {
   "cell_type": "code",
   "execution_count": 166,
   "metadata": {},
   "outputs": [
    {
     "data": {
      "text/html": [
       "<div>\n",
       "<style scoped>\n",
       "    .dataframe tbody tr th:only-of-type {\n",
       "        vertical-align: middle;\n",
       "    }\n",
       "\n",
       "    .dataframe tbody tr th {\n",
       "        vertical-align: top;\n",
       "    }\n",
       "\n",
       "    .dataframe thead th {\n",
       "        text-align: right;\n",
       "    }\n",
       "</style>\n",
       "<table border=\"1\" class=\"dataframe\">\n",
       "  <thead>\n",
       "    <tr style=\"text-align: right;\">\n",
       "      <th></th>\n",
       "      <th>params</th>\n",
       "      <th>auc</th>\n",
       "    </tr>\n",
       "  </thead>\n",
       "  <tbody>\n",
       "    <tr>\n",
       "      <th>0</th>\n",
       "      <td>{'booster': 'gbtree', 'colsample_bylevel': 0.4785805932506022, 'colsample_bynode': 0.2881942600298212, 'colsample_bytree': 0.8470048290299451, 'gamma': 19, 'learning_rate': 0.048875444808458485, 'max_depth': 29, 'min_child_weight': 2, 'n_estimators': 787, 'reg_alpha': 0.06256694443509794, 'reg_lambda': 9, 'scale_pos_weight': 60, 'subsample': 0.7442320198790318}</td>\n",
       "      <td>0.732013</td>\n",
       "    </tr>\n",
       "    <tr>\n",
       "      <th>1</th>\n",
       "      <td>{'booster': 'gbtree', 'colsample_bylevel': 0.5283824051652493, 'colsample_bynode': 0.4619044427567548, 'colsample_bytree': 0.2533384779195744, 'gamma': 8, 'learning_rate': 0.036731127126857034, 'max_depth': 1, 'min_child_weight': 1, 'n_estimators': 696, 'reg_alpha': 0.07163289451076758, 'reg_lambda': 1, 'scale_pos_weight': 84, 'subsample': 0.17197427968948678}</td>\n",
       "      <td>0.840963</td>\n",
       "    </tr>\n",
       "    <tr>\n",
       "      <th>2</th>\n",
       "      <td>{'booster': 'gbtree', 'colsample_bylevel': 0.8440612531898167, 'colsample_bynode': 0.42786732533235206, 'colsample_bytree': 0.3446922276668436, 'gamma': 15, 'learning_rate': 0.2611468154584592, 'max_depth': 7, 'min_child_weight': 3, 'n_estimators': 840, 'reg_alpha': 0.048659862805710746, 'reg_lambda': 4, 'scale_pos_weight': 65, 'subsample': 0.992900898791767}</td>\n",
       "      <td>0.678660</td>\n",
       "    </tr>\n",
       "    <tr>\n",
       "      <th>3</th>\n",
       "      <td>{'booster': 'gbtree', 'colsample_bylevel': 0.2771611644384173, 'colsample_bynode': 0.6724051124346493, 'colsample_bytree': 0.14484533458908813, 'gamma': 19, 'learning_rate': 0.12376356869097792, 'max_depth': 6, 'min_child_weight': 3, 'n_estimators': 354, 'reg_alpha': 0.036126036458527425, 'reg_lambda': 2, 'scale_pos_weight': 47, 'subsample': 0.6475914534866515}</td>\n",
       "      <td>0.688884</td>\n",
       "    </tr>\n",
       "    <tr>\n",
       "      <th>4</th>\n",
       "      <td>{'booster': 'gbtree', 'colsample_bylevel': 0.8469384956075251, 'colsample_bynode': 0.5524048267464515, 'colsample_bytree': 0.5500867470007611, 'gamma': 12, 'learning_rate': 0.2944023559373164, 'max_depth': 1, 'min_child_weight': 2, 'n_estimators': 652, 'reg_alpha': 0.0879500193183766, 'reg_lambda': 7, 'scale_pos_weight': 34, 'subsample': 0.7536897553047116}</td>\n",
       "      <td>0.751563</td>\n",
       "    </tr>\n",
       "  </tbody>\n",
       "</table>\n",
       "</div>"
      ],
      "text/plain": [
       "                                                                                                                                                                                                                                                                                                                                                                        params  \\\n",
       "0  {'booster': 'gbtree', 'colsample_bylevel': 0.4785805932506022, 'colsample_bynode': 0.2881942600298212, 'colsample_bytree': 0.8470048290299451, 'gamma': 19, 'learning_rate': 0.048875444808458485, 'max_depth': 29, 'min_child_weight': 2, 'n_estimators': 787, 'reg_alpha': 0.06256694443509794, 'reg_lambda': 9, 'scale_pos_weight': 60, 'subsample': 0.7442320198790318}   \n",
       "1   {'booster': 'gbtree', 'colsample_bylevel': 0.5283824051652493, 'colsample_bynode': 0.4619044427567548, 'colsample_bytree': 0.2533384779195744, 'gamma': 8, 'learning_rate': 0.036731127126857034, 'max_depth': 1, 'min_child_weight': 1, 'n_estimators': 696, 'reg_alpha': 0.07163289451076758, 'reg_lambda': 1, 'scale_pos_weight': 84, 'subsample': 0.17197427968948678}   \n",
       "2    {'booster': 'gbtree', 'colsample_bylevel': 0.8440612531898167, 'colsample_bynode': 0.42786732533235206, 'colsample_bytree': 0.3446922276668436, 'gamma': 15, 'learning_rate': 0.2611468154584592, 'max_depth': 7, 'min_child_weight': 3, 'n_estimators': 840, 'reg_alpha': 0.048659862805710746, 'reg_lambda': 4, 'scale_pos_weight': 65, 'subsample': 0.992900898791767}   \n",
       "3  {'booster': 'gbtree', 'colsample_bylevel': 0.2771611644384173, 'colsample_bynode': 0.6724051124346493, 'colsample_bytree': 0.14484533458908813, 'gamma': 19, 'learning_rate': 0.12376356869097792, 'max_depth': 6, 'min_child_weight': 3, 'n_estimators': 354, 'reg_alpha': 0.036126036458527425, 'reg_lambda': 2, 'scale_pos_weight': 47, 'subsample': 0.6475914534866515}   \n",
       "4      {'booster': 'gbtree', 'colsample_bylevel': 0.8469384956075251, 'colsample_bynode': 0.5524048267464515, 'colsample_bytree': 0.5500867470007611, 'gamma': 12, 'learning_rate': 0.2944023559373164, 'max_depth': 1, 'min_child_weight': 2, 'n_estimators': 652, 'reg_alpha': 0.0879500193183766, 'reg_lambda': 7, 'scale_pos_weight': 34, 'subsample': 0.7536897553047116}   \n",
       "\n",
       "        auc  \n",
       "0  0.732013  \n",
       "1  0.840963  \n",
       "2  0.678660  \n",
       "3  0.688884  \n",
       "4  0.751563  "
      ]
     },
     "execution_count": 166,
     "metadata": {},
     "output_type": "execute_result"
    }
   ],
   "source": [
    "# view cross-validation AUC of each set hyperparameters\n",
    "pd.DataFrame(params_auc)"
   ]
  },
  {
   "cell_type": "markdown",
   "metadata": {},
   "source": [
    "I will evaluate the top 5 sets of hyperparameters from Randomised Search. Each of these set of hyperparameters are cross-validated (5-folds) and I will pick the set with the best AUC to tune with Hyperopt."
   ]
  },
  {
   "cell_type": "markdown",
   "metadata": {},
   "source": [
    "### 4.3 Use Hyperopt to Find Best Hyperparameters"
   ]
  },
  {
   "cell_type": "code",
   "execution_count": 69,
   "metadata": {},
   "outputs": [],
   "source": [
    "if not os.path.exists('Tuning'): os.mkdir('Tuning')"
   ]
  },
  {
   "cell_type": "code",
   "execution_count": 70,
   "metadata": {},
   "outputs": [],
   "source": [
    "def save_file(path, data):\n",
    "    output = open(path, 'wb')\n",
    "    pickle.dump(data, output)\n",
    "    output.close()\n",
    "\n",
    "def load_file(path):\n",
    "    pkl_file = open(path, 'rb')\n",
    "    data = pickle.load(pkl_file)\n",
    "    pkl_file.close()\n",
    "    return data"
   ]
  },
  {
   "cell_type": "code",
   "execution_count": 167,
   "metadata": {},
   "outputs": [],
   "source": [
    "params_score = {'parameters': [], 'auc': []}\n",
    "\n",
    "def hyperopt(param_space, X_train, y_train, X_test, y_test, num_eval, classifier):  \n",
    "    start = time()\n",
    "    \n",
    "    def objective_function(params):\n",
    "        clf = classifier(**params, random_state=SEED, objective = 'binary:logistic', n_jobs=4)\n",
    "        score = cross_val_score(clf, X_train, y_train, cv=kf, scoring = 'roc_auc').mean()\n",
    "        \n",
    "        # saving parameter and its respective auc to params_score dict\n",
    "        params_score['parameters'].append(params)\n",
    "        params_score['auc'].append(score)\n",
    "        \n",
    "        return {'loss': -score, 'status': STATUS_OK, 'params': params}\n",
    "    \n",
    "    trials = Trials()\n",
    "    best_param = fmin(objective_function, \n",
    "                      param_space, \n",
    "                      algo=tpe.suggest, \n",
    "                      max_evals=num_eval, \n",
    "                      trials=trials, \n",
    "                      rstate=np.random.RandomState(SEED))\n",
    "    \n",
    "    # find the trial with lowest loss value\n",
    "    idx = np.argmin(trials.losses())\n",
    "    print(idx)\n",
    "    print(trials.trials[idx])\n",
    "\n",
    "    params = trials.trials[idx][\"result\"][\"params\"]\n",
    "    print(params)\n",
    "    \n",
    "    loss = [x['result']['loss'] for x in trials.trials] \n",
    "    best_param_values = best_param\n",
    "    return trials, best_param_values"
   ]
  },
  {
   "cell_type": "code",
   "execution_count": 168,
   "metadata": {},
   "outputs": [],
   "source": [
    "X = train[x_var]\n",
    "y = train[y_var]\n",
    "\n",
    "X_train, X_test, y_train, y_test = train_test_split(X, y, test_size=0.2, random_state=SEED, stratify = y)"
   ]
  },
  {
   "cell_type": "markdown",
   "metadata": {},
   "source": [
    "From the best hyperparameters that I have picked from the previous step, I will expand the range of each of these hyperparameters. \n",
    "\n",
    "For `booster`, I will be including `dart` in the search space even though the top 5 hyperparameters used `gbtree` as the `booster`. This is due to the fact that `dart` may perform better than `gbtree` as it will drop trees in order to deal with overfitting."
   ]
  },
  {
   "cell_type": "code",
   "execution_count": 169,
   "metadata": {},
   "outputs": [
    {
     "name": "stdout",
     "output_type": "stream",
     "text": [
      "100%|█████████████████████████████████████████████| 50/50 [1:17:53<00:00, 93.46s/trial, best loss: -0.9352594702179647]\n",
      "42\n",
      "{'state': 2, 'tid': 42, 'spec': None, 'result': {'loss': -0.9352594702179647, 'status': 'ok', 'params': {'booster': 'dart', 'colsample_bylevel': 0.5790943648816523, 'colsample_bynode': 0.40970234708701153, 'colsample_bytree': 0.13309931865331168, 'gamma': 7.343183821638209, 'learning_rate': 0.021325065929116694, 'max_depth': 1, 'min_child_weight': 1.923674112345926, 'n_estimators': 713, 'reg_alpha': 0.07454108261110519, 'reg_lambda': 2.779048238718148, 'scale_pos_weight': 78, 'subsample': 0.285800697518754}}, 'misc': {'tid': 42, 'cmd': ('domain_attachment', 'FMinIter_Domain'), 'workdir': None, 'idxs': {'booster': [42], 'colsample_bylevel': [42], 'colsample_bynode': [42], 'colsample_bytree': [42], 'gamma': [42], 'learning_rate': [42], 'max_depth': [42], 'min_child_weight': [42], 'n_estimator': [42], 'reg_alpha': [42], 'reg_lambda': [42], 'scale_pos_weight': [42], 'subsample': [42]}, 'vals': {'booster': [1], 'colsample_bylevel': [0.5790943648816523], 'colsample_bynode': [0.40970234708701153], 'colsample_bytree': [0.13309931865331168], 'gamma': [7.343183821638209], 'learning_rate': [0.021325065929116694], 'max_depth': [1.0], 'min_child_weight': [1.923674112345926], 'n_estimator': [713.0], 'reg_alpha': [0.07454108261110519], 'reg_lambda': [2.779048238718148], 'scale_pos_weight': [78.0], 'subsample': [0.285800697518754]}}, 'exp_key': None, 'owner': None, 'version': 0, 'book_time': datetime.datetime(2020, 11, 16, 13, 55, 5, 547000), 'refresh_time': datetime.datetime(2020, 11, 16, 13, 56, 47, 882000)}\n",
      "{'booster': 'dart', 'colsample_bylevel': 0.5790943648816523, 'colsample_bynode': 0.40970234708701153, 'colsample_bytree': 0.13309931865331168, 'gamma': 7.343183821638209, 'learning_rate': 0.021325065929116694, 'max_depth': 1, 'min_child_weight': 1.923674112345926, 'n_estimators': 713, 'reg_alpha': 0.07454108261110519, 'reg_lambda': 2.779048238718148, 'scale_pos_weight': 78, 'subsample': 0.285800697518754}\n"
     ]
    }
   ],
   "source": [
    "num_eval = 50\n",
    "\n",
    "XGB_param_hyperopt = {\n",
    "    'booster': hp.choice('booster', ['gbtree', 'dart']), \n",
    "    'max_depth': scope.int(hp.quniform('max_depth', 1, 3, 1)),\n",
    "    'subsample': hp.uniform('subsample', 0.1, 0.3),\n",
    "    'colsample_bytree': hp.uniform('colsample_bytree', 0.1, 0.3),\n",
    "    'colsample_bynode': hp.uniform('colsample_bynode', 0.3, 0.5),\n",
    "    'colsample_bylevel': hp.uniform('colsample_bylevel', 0.4, 0.6),\n",
    "    'gamma': hp.uniform('gamma', 5, 9),\n",
    "    'min_child_weight': hp.uniform('min_child_weight', 1, 3),\n",
    "    'n_estimators': scope.int(hp.quniform('n_estimator', 600, 800, 1)),\n",
    "    'reg_lambda': hp.uniform('reg_lambda', 1, 3),\n",
    "    'reg_alpha':hp.uniform('reg_alpha', 0.06, 0.08),\n",
    "    'learning_rate': hp.uniform('learning_rate', 0.02, 0.04),\n",
    "    'scale_pos_weight': scope.int(hp.quniform('scale_pos_weight', 70, 90, 1))\n",
    "}\n",
    "try:\n",
    "    XGB_hyperopt = load_file('Tuning/XGB_hyperopt_final.pkl')\n",
    "except:\n",
    "    XGB_hyperopt = hyperopt(XGB_param_hyperopt, X_train, y_train, X_test, y_test, num_eval, xgb.XGBClassifier)\n",
    "    save_file('Tuning/XGB_hyperopt_final.pkl', XGB_hyperopt)"
   ]
  },
  {
   "cell_type": "markdown",
   "metadata": {},
   "source": [
    "### 4.4 Evaluation"
   ]
  },
  {
   "cell_type": "code",
   "execution_count": 181,
   "metadata": {},
   "outputs": [
    {
     "data": {
      "text/html": [
       "<div>\n",
       "<style scoped>\n",
       "    .dataframe tbody tr th:only-of-type {\n",
       "        vertical-align: middle;\n",
       "    }\n",
       "\n",
       "    .dataframe tbody tr th {\n",
       "        vertical-align: top;\n",
       "    }\n",
       "\n",
       "    .dataframe thead th {\n",
       "        text-align: right;\n",
       "    }\n",
       "</style>\n",
       "<table border=\"1\" class=\"dataframe\">\n",
       "  <thead>\n",
       "    <tr style=\"text-align: right;\">\n",
       "      <th></th>\n",
       "      <th>parameters</th>\n",
       "      <th>auc</th>\n",
       "    </tr>\n",
       "  </thead>\n",
       "  <tbody>\n",
       "    <tr>\n",
       "      <th>42</th>\n",
       "      <td>{'booster': 'dart', 'colsample_bylevel': 0.5790943648816523, 'colsample_bynode': 0.40970234708701153, 'colsample_bytree': 0.13309931865331168, 'gamma': 7.343183821638209, 'learning_rate': 0.021325065929116694, 'max_depth': 1, 'min_child_weight': 1.923674112345926, 'n_estimators': 713, 'reg_alpha': 0.07454108261110519, 'reg_lambda': 2.779048238718148, 'scale_pos_weight': 78, 'subsample': 0.285800697518754}</td>\n",
       "      <td>0.935259</td>\n",
       "    </tr>\n",
       "    <tr>\n",
       "      <th>28</th>\n",
       "      <td>{'booster': 'dart', 'colsample_bylevel': 0.5036074005358407, 'colsample_bynode': 0.4883189961630391, 'colsample_bytree': 0.12030586603090371, 'gamma': 6.699318985694399, 'learning_rate': 0.02285961272871588, 'max_depth': 1, 'min_child_weight': 1.2690924079835466, 'n_estimators': 738, 'reg_alpha': 0.07902882848491988, 'reg_lambda': 2.3769668517870715, 'scale_pos_weight': 70, 'subsample': 0.29915990036412593}</td>\n",
       "      <td>0.935132</td>\n",
       "    </tr>\n",
       "    <tr>\n",
       "      <th>27</th>\n",
       "      <td>{'booster': 'dart', 'colsample_bylevel': 0.5086418327379979, 'colsample_bynode': 0.44698790190160026, 'colsample_bytree': 0.15067975806884235, 'gamma': 7.560738101760692, 'learning_rate': 0.036388983784716555, 'max_depth': 1, 'min_child_weight': 1.5116711201016753, 'n_estimators': 733, 'reg_alpha': 0.07996015159475806, 'reg_lambda': 2.6547612116669623, 'scale_pos_weight': 90, 'subsample': 0.29501466444855534}</td>\n",
       "      <td>0.934717</td>\n",
       "    </tr>\n",
       "    <tr>\n",
       "      <th>48</th>\n",
       "      <td>{'booster': 'dart', 'colsample_bylevel': 0.4141719586617114, 'colsample_bynode': 0.40703915012570546, 'colsample_bytree': 0.10791810627449161, 'gamma': 5.092624708551889, 'learning_rate': 0.02642163721988208, 'max_depth': 1, 'min_child_weight': 2.4470057076113814, 'n_estimators': 686, 'reg_alpha': 0.0720878094559176, 'reg_lambda': 1.6709634705183198, 'scale_pos_weight': 73, 'subsample': 0.2707782640287265}</td>\n",
       "      <td>0.934667</td>\n",
       "    </tr>\n",
       "    <tr>\n",
       "      <th>3</th>\n",
       "      <td>{'booster': 'dart', 'colsample_bylevel': 0.5191881374236127, 'colsample_bynode': 0.4960598737596077, 'colsample_bytree': 0.18175008955539612, 'gamma': 8.92372845290391, 'learning_rate': 0.027057506246033546, 'max_depth': 2, 'min_child_weight': 2.379535292239969, 'n_estimators': 690, 'reg_alpha': 0.06560241124359512, 'reg_lambda': 2.5397357784605905, 'scale_pos_weight': 70, 'subsample': 0.2660798024414575}</td>\n",
       "      <td>0.934478</td>\n",
       "    </tr>\n",
       "  </tbody>\n",
       "</table>\n",
       "</div>"
      ],
      "text/plain": [
       "                                                                                                                                                                                                                                                                                                                                                                                                                      parameters  \\\n",
       "42      {'booster': 'dart', 'colsample_bylevel': 0.5790943648816523, 'colsample_bynode': 0.40970234708701153, 'colsample_bytree': 0.13309931865331168, 'gamma': 7.343183821638209, 'learning_rate': 0.021325065929116694, 'max_depth': 1, 'min_child_weight': 1.923674112345926, 'n_estimators': 713, 'reg_alpha': 0.07454108261110519, 'reg_lambda': 2.779048238718148, 'scale_pos_weight': 78, 'subsample': 0.285800697518754}   \n",
       "28    {'booster': 'dart', 'colsample_bylevel': 0.5036074005358407, 'colsample_bynode': 0.4883189961630391, 'colsample_bytree': 0.12030586603090371, 'gamma': 6.699318985694399, 'learning_rate': 0.02285961272871588, 'max_depth': 1, 'min_child_weight': 1.2690924079835466, 'n_estimators': 738, 'reg_alpha': 0.07902882848491988, 'reg_lambda': 2.3769668517870715, 'scale_pos_weight': 70, 'subsample': 0.29915990036412593}   \n",
       "27  {'booster': 'dart', 'colsample_bylevel': 0.5086418327379979, 'colsample_bynode': 0.44698790190160026, 'colsample_bytree': 0.15067975806884235, 'gamma': 7.560738101760692, 'learning_rate': 0.036388983784716555, 'max_depth': 1, 'min_child_weight': 1.5116711201016753, 'n_estimators': 733, 'reg_alpha': 0.07996015159475806, 'reg_lambda': 2.6547612116669623, 'scale_pos_weight': 90, 'subsample': 0.29501466444855534}   \n",
       "48     {'booster': 'dart', 'colsample_bylevel': 0.4141719586617114, 'colsample_bynode': 0.40703915012570546, 'colsample_bytree': 0.10791810627449161, 'gamma': 5.092624708551889, 'learning_rate': 0.02642163721988208, 'max_depth': 1, 'min_child_weight': 2.4470057076113814, 'n_estimators': 686, 'reg_alpha': 0.0720878094559176, 'reg_lambda': 1.6709634705183198, 'scale_pos_weight': 73, 'subsample': 0.2707782640287265}   \n",
       "3       {'booster': 'dart', 'colsample_bylevel': 0.5191881374236127, 'colsample_bynode': 0.4960598737596077, 'colsample_bytree': 0.18175008955539612, 'gamma': 8.92372845290391, 'learning_rate': 0.027057506246033546, 'max_depth': 2, 'min_child_weight': 2.379535292239969, 'n_estimators': 690, 'reg_alpha': 0.06560241124359512, 'reg_lambda': 2.5397357784605905, 'scale_pos_weight': 70, 'subsample': 0.2660798024414575}   \n",
       "\n",
       "         auc  \n",
       "42  0.935259  \n",
       "28  0.935132  \n",
       "27  0.934717  \n",
       "48  0.934667  \n",
       "3   0.934478  "
      ]
     },
     "execution_count": 181,
     "metadata": {},
     "output_type": "execute_result"
    }
   ],
   "source": [
    "params_df = pd.DataFrame(params_score).sort_values(by='auc', ascending=False)\n",
    "params_df_top_5 = params_df.iloc[:5,:]\n",
    "params_df_top_5"
   ]
  },
  {
   "cell_type": "markdown",
   "metadata": {},
   "source": [
    "Looking at the top 5 best AUC, I will cross-validate with the train data to find the best AUC score."
   ]
  },
  {
   "cell_type": "code",
   "execution_count": 192,
   "metadata": {},
   "outputs": [],
   "source": [
    "params_auc_hp = {'params': [], 'auc': []}\n",
    "\n",
    "for i in params_df_top_5.index:\n",
    "    curr_params_hp = params_df_top_5['parameters'][i]\n",
    "    all_y_preds = []\n",
    "    all_y_proba = []\n",
    "    all_y_true = []\n",
    "\n",
    "    for train_index, test_index in kf.split(train[x_var], train[y_var]):\n",
    "        curr_train, curr_test = train.iloc[train_index], train.iloc[test_index]\n",
    "        X_train = curr_train[x_var]\n",
    "        y_train = curr_train[y_var]\n",
    "\n",
    "        X_test = curr_test[x_var]\n",
    "        y_test = curr_test[y_var]\n",
    "\n",
    "        xg_clf = XGBClassifier(objective = 'binary:logistic', n_jobs=4, **curr_params_hp, random_state=SEED)\n",
    "        xg_clf.fit(X_train, y_train)\n",
    "        y_preds = xg_clf.predict(X_test)\n",
    "        y_proba = xg_clf.predict_proba(X_test)\n",
    "        all_y_preds.extend(y_preds)\n",
    "        all_y_proba.extend(y_proba[:, 1])\n",
    "        all_y_true.extend(y_test)\n",
    "\n",
    "    auc_score = roc_auc_score(all_y_true, all_y_preds)\n",
    "    params_auc_hp['params'].append(curr_params_hp)\n",
    "    params_auc_hp['auc'].append(auc_score)"
   ]
  },
  {
   "cell_type": "code",
   "execution_count": 194,
   "metadata": {},
   "outputs": [
    {
     "data": {
      "text/html": [
       "<div>\n",
       "<style scoped>\n",
       "    .dataframe tbody tr th:only-of-type {\n",
       "        vertical-align: middle;\n",
       "    }\n",
       "\n",
       "    .dataframe tbody tr th {\n",
       "        vertical-align: top;\n",
       "    }\n",
       "\n",
       "    .dataframe thead th {\n",
       "        text-align: right;\n",
       "    }\n",
       "</style>\n",
       "<table border=\"1\" class=\"dataframe\">\n",
       "  <thead>\n",
       "    <tr style=\"text-align: right;\">\n",
       "      <th></th>\n",
       "      <th>params</th>\n",
       "      <th>auc</th>\n",
       "    </tr>\n",
       "  </thead>\n",
       "  <tbody>\n",
       "    <tr>\n",
       "      <th>0</th>\n",
       "      <td>{'booster': 'dart', 'colsample_bylevel': 0.5790943648816523, 'colsample_bynode': 0.40970234708701153, 'colsample_bytree': 0.13309931865331168, 'gamma': 7.343183821638209, 'learning_rate': 0.021325065929116694, 'max_depth': 1, 'min_child_weight': 1.923674112345926, 'n_estimators': 713, 'reg_alpha': 0.07454108261110519, 'reg_lambda': 2.779048238718148, 'scale_pos_weight': 78, 'subsample': 0.285800697518754}</td>\n",
       "      <td>0.841097</td>\n",
       "    </tr>\n",
       "    <tr>\n",
       "      <th>1</th>\n",
       "      <td>{'booster': 'dart', 'colsample_bylevel': 0.5036074005358407, 'colsample_bynode': 0.4883189961630391, 'colsample_bytree': 0.12030586603090371, 'gamma': 6.699318985694399, 'learning_rate': 0.02285961272871588, 'max_depth': 1, 'min_child_weight': 1.2690924079835466, 'n_estimators': 738, 'reg_alpha': 0.07902882848491988, 'reg_lambda': 2.3769668517870715, 'scale_pos_weight': 70, 'subsample': 0.29915990036412593}</td>\n",
       "      <td>0.839026</td>\n",
       "    </tr>\n",
       "    <tr>\n",
       "      <th>2</th>\n",
       "      <td>{'booster': 'dart', 'colsample_bylevel': 0.5086418327379979, 'colsample_bynode': 0.44698790190160026, 'colsample_bytree': 0.15067975806884235, 'gamma': 7.560738101760692, 'learning_rate': 0.036388983784716555, 'max_depth': 1, 'min_child_weight': 1.5116711201016753, 'n_estimators': 733, 'reg_alpha': 0.07996015159475806, 'reg_lambda': 2.6547612116669623, 'scale_pos_weight': 90, 'subsample': 0.29501466444855534}</td>\n",
       "      <td>0.856527</td>\n",
       "    </tr>\n",
       "    <tr>\n",
       "      <th>3</th>\n",
       "      <td>{'booster': 'dart', 'colsample_bylevel': 0.4141719586617114, 'colsample_bynode': 0.40703915012570546, 'colsample_bytree': 0.10791810627449161, 'gamma': 5.092624708551889, 'learning_rate': 0.02642163721988208, 'max_depth': 1, 'min_child_weight': 2.4470057076113814, 'n_estimators': 686, 'reg_alpha': 0.0720878094559176, 'reg_lambda': 1.6709634705183198, 'scale_pos_weight': 73, 'subsample': 0.2707782640287265}</td>\n",
       "      <td>0.839702</td>\n",
       "    </tr>\n",
       "    <tr>\n",
       "      <th>4</th>\n",
       "      <td>{'booster': 'dart', 'colsample_bylevel': 0.5191881374236127, 'colsample_bynode': 0.4960598737596077, 'colsample_bytree': 0.18175008955539612, 'gamma': 8.92372845290391, 'learning_rate': 0.027057506246033546, 'max_depth': 2, 'min_child_weight': 2.379535292239969, 'n_estimators': 690, 'reg_alpha': 0.06560241124359512, 'reg_lambda': 2.5397357784605905, 'scale_pos_weight': 70, 'subsample': 0.2660798024414575}</td>\n",
       "      <td>0.822836</td>\n",
       "    </tr>\n",
       "  </tbody>\n",
       "</table>\n",
       "</div>"
      ],
      "text/plain": [
       "                                                                                                                                                                                                                                                                                                                                                                                                                         params  \\\n",
       "0      {'booster': 'dart', 'colsample_bylevel': 0.5790943648816523, 'colsample_bynode': 0.40970234708701153, 'colsample_bytree': 0.13309931865331168, 'gamma': 7.343183821638209, 'learning_rate': 0.021325065929116694, 'max_depth': 1, 'min_child_weight': 1.923674112345926, 'n_estimators': 713, 'reg_alpha': 0.07454108261110519, 'reg_lambda': 2.779048238718148, 'scale_pos_weight': 78, 'subsample': 0.285800697518754}   \n",
       "1    {'booster': 'dart', 'colsample_bylevel': 0.5036074005358407, 'colsample_bynode': 0.4883189961630391, 'colsample_bytree': 0.12030586603090371, 'gamma': 6.699318985694399, 'learning_rate': 0.02285961272871588, 'max_depth': 1, 'min_child_weight': 1.2690924079835466, 'n_estimators': 738, 'reg_alpha': 0.07902882848491988, 'reg_lambda': 2.3769668517870715, 'scale_pos_weight': 70, 'subsample': 0.29915990036412593}   \n",
       "2  {'booster': 'dart', 'colsample_bylevel': 0.5086418327379979, 'colsample_bynode': 0.44698790190160026, 'colsample_bytree': 0.15067975806884235, 'gamma': 7.560738101760692, 'learning_rate': 0.036388983784716555, 'max_depth': 1, 'min_child_weight': 1.5116711201016753, 'n_estimators': 733, 'reg_alpha': 0.07996015159475806, 'reg_lambda': 2.6547612116669623, 'scale_pos_weight': 90, 'subsample': 0.29501466444855534}   \n",
       "3     {'booster': 'dart', 'colsample_bylevel': 0.4141719586617114, 'colsample_bynode': 0.40703915012570546, 'colsample_bytree': 0.10791810627449161, 'gamma': 5.092624708551889, 'learning_rate': 0.02642163721988208, 'max_depth': 1, 'min_child_weight': 2.4470057076113814, 'n_estimators': 686, 'reg_alpha': 0.0720878094559176, 'reg_lambda': 1.6709634705183198, 'scale_pos_weight': 73, 'subsample': 0.2707782640287265}   \n",
       "4      {'booster': 'dart', 'colsample_bylevel': 0.5191881374236127, 'colsample_bynode': 0.4960598737596077, 'colsample_bytree': 0.18175008955539612, 'gamma': 8.92372845290391, 'learning_rate': 0.027057506246033546, 'max_depth': 2, 'min_child_weight': 2.379535292239969, 'n_estimators': 690, 'reg_alpha': 0.06560241124359512, 'reg_lambda': 2.5397357784605905, 'scale_pos_weight': 70, 'subsample': 0.2660798024414575}   \n",
       "\n",
       "        auc  \n",
       "0  0.841097  \n",
       "1  0.839026  \n",
       "2  0.856527  \n",
       "3  0.839702  \n",
       "4  0.822836  "
      ]
     },
     "execution_count": 194,
     "metadata": {},
     "output_type": "execute_result"
    }
   ],
   "source": [
    "pd.DataFrame(params_auc_hp)"
   ]
  },
  {
   "cell_type": "markdown",
   "metadata": {},
   "source": [
    "Best hyperparameters to use for prediction will be the hyperparameters in Index 2 as it has the highest AUC."
   ]
  },
  {
   "cell_type": "code",
   "execution_count": 197,
   "metadata": {},
   "outputs": [],
   "source": [
    "best_params = pd.DataFrame(params_auc_hp).iloc[2,0]"
   ]
  },
  {
   "cell_type": "code",
   "execution_count": 198,
   "metadata": {},
   "outputs": [
    {
     "name": "stdout",
     "output_type": "stream",
     "text": [
      "AUC: 0.8565267745699555\n"
     ]
    },
    {
     "data": {
      "image/png": "[encoded data removed]",
      "text/plain": [
       "<Figure size 432x288 with 1 Axes>"
      ]
     },
     "metadata": {},
     "output_type": "display_data"
    }
   ],
   "source": [
    "all_y_preds = []\n",
    "all_y_proba = []\n",
    "all_y_true = []\n",
    "\n",
    "for train_index, test_index in kf.split(train[x_var], train[y_var]):\n",
    "    curr_train, curr_test = train.iloc[train_index], train.iloc[test_index]\n",
    "    X_train = curr_train[x_var]\n",
    "    y_train = curr_train[y_var]\n",
    "\n",
    "    X_test = curr_test[x_var]\n",
    "    y_test = curr_test[y_var]\n",
    "\n",
    "    xg_clf = XGBClassifier(objective = 'binary:logistic', n_jobs=4, **best_params, random_state=SEED)\n",
    "    xg_clf.fit(X_train, y_train)\n",
    "    y_preds = xg_clf.predict(X_test)\n",
    "    y_proba = xg_clf.predict_proba(X_test)\n",
    "    all_y_preds.extend(y_preds)\n",
    "    all_y_proba.extend(y_proba[:, 1])\n",
    "    all_y_true.extend(y_test)\n",
    "\n",
    "auc_score = roc_auc_score(all_y_true, all_y_preds)\n",
    "print(f'AUC: {auc_score}')\n",
    "plt.plot([0, 1], [0, 1], linestyle='--')\n",
    "plt.plot(fpr, tpr)\n",
    "plt.show()"
   ]
  },
  {
   "cell_type": "markdown",
   "metadata": {},
   "source": [
    "### 4.5 Prediction on Test Dataset"
   ]
  },
  {
   "cell_type": "markdown",
   "metadata": {},
   "source": [
    "#### Preprocess Test Dataset"
   ]
  },
  {
   "cell_type": "code",
   "execution_count": 172,
   "metadata": {},
   "outputs": [],
   "source": [
    "test = pd.read_csv('test.csv')"
   ]
  },
  {
   "cell_type": "code",
   "execution_count": 173,
   "metadata": {},
   "outputs": [],
   "source": [
    "test['division'] = test['sic'].apply(lambda x: map_sic(x))\n",
    "test = test.drop(['sic', 'id', 'bankrupt'], axis=1)\n",
    "test['division_enc'] = test['division'].apply(lambda x: map_encode(x))\n",
    "test = test.drop(['division'], axis=1)"
   ]
  },
  {
   "cell_type": "markdown",
   "metadata": {},
   "source": [
    "#### Prediction Probability for `bankruptcy`=1"
   ]
  },
  {
   "cell_type": "code",
   "execution_count": 201,
   "metadata": {},
   "outputs": [],
   "source": [
    "final_params = {'booster': 'dart', \n",
    "                'colsample_bylevel': 0.5086418327379979, \n",
    "                'colsample_bynode': 0.44698790190160026, \n",
    "                'colsample_bytree': 0.15067975806884235, \n",
    "                'gamma': 7.560738101760692, \n",
    "                'learning_rate': 0.036388983784716555, \n",
    "                'max_depth': 1, \n",
    "                'min_child_weight': 1.5116711201016753, \n",
    "                'n_estimators': 733, \n",
    "                'reg_alpha': 0.07996015159475806, \n",
    "                'reg_lambda': 2.6547612116669623, \n",
    "                'scale_pos_weight': 90, \n",
    "                'subsample': 0.29501466444855534}"
   ]
  },
  {
   "cell_type": "code",
   "execution_count": 202,
   "metadata": {},
   "outputs": [],
   "source": [
    "xg_clf = xgb.XGBClassifier(objective = 'binary:logistic', n_jobs=4, **final_params, random_state=SEED)\n",
    "xg_clf.fit(train[x_var], train[y_var])\n",
    "y_proba = xg_clf.predict_proba(test)\n",
    "y_proba_pos = y_proba[:,1]"
   ]
  },
  {
   "cell_type": "markdown",
   "metadata": {},
   "source": [
    "Output prediction probability for positive class to submission csv file."
   ]
  },
  {
   "cell_type": "code",
   "execution_count": 203,
   "metadata": {},
   "outputs": [],
   "source": [
    "id_col = [i for i in range(7711)]\n",
    "predict_prob = y_proba_pos\n",
    "output = pd.DataFrame(list(zip(id_col, predict_prob)), columns=['id', 'predict_prob'])\n",
    "output.to_csv('submission_A0190140W.csv', index=False)"
   ]
  },
  {
   "cell_type": "markdown",
   "metadata": {},
   "source": [
    "## <a id='5'>Section 5</a>"
   ]
  },
  {
   "cell_type": "markdown",
   "metadata": {},
   "source": [
    "### 5.1 Best Model's Top 10 Features"
   ]
  },
  {
   "cell_type": "markdown",
   "metadata": {},
   "source": [
    "The default importance type in XGBoost's feature importance plot is `weight`. However, `gain` would be a better importance type in determining which features are important in generating a prediction. `gain` implies the relative contribution of the corresponding feature to the model calculated by taking each feature's contribution for a tree in the model. Hence, the higher the value, the more important the feature is."
   ]
  },
  {
   "cell_type": "code",
   "execution_count": 204,
   "metadata": {},
   "outputs": [
    {
     "data": {
      "image/png": "[encoded data removed]",
      "text/plain": [
       "<Figure size 432x288 with 1 Axes>"
      ]
     },
     "metadata": {},
     "output_type": "display_data"
    }
   ],
   "source": [
    "xgb.plot_importance(xg_clf, max_num_features=10, importance_type='gain', height=0.8)\n",
    "plt.show()"
   ]
  },
  {
   "cell_type": "markdown",
   "metadata": {},
   "source": [
    "### 5.2 Evaluation of Features"
   ]
  },
  {
   "cell_type": "markdown",
   "metadata": {},
   "source": [
    "| Rank | Feature | Feature Importance (F-Score) |\n",
    "| --- | --- | --- | \n",
    "| 1 | Altman_X4 | 1204.2 |\n",
    "| 2 | pi | 678.1 |\n",
    "| 3 | mkvalt | 610.8 |\n",
    "| 4 | Altman_X2 | 491.6 |\n",
    "| 5 | niadj | 482.2 |\n",
    "| 6 | re | 463.8 |\n",
    "| 7 | lt | 358.6 | \n",
    "| 8 | Altman_X1 | 333.2 | \n",
    "| 9 | wcap | 326.1 | \n",
    "| 10 | ebit | 303.8 |"
   ]
  },
  {
   "cell_type": "markdown",
   "metadata": {},
   "source": [
    "`Altman_X2` is not the most important feature as Professor Altman had claimed. However, it is still within the top 10 features. Of the 5 Altman factors, only `Altman_X4`, `Altman_X2` and `Altman_X1` are important in contributing to the prediction with the XGBoost model.\n",
    "\n",
    "`Altman_X1` is working capital/total assets. Working capital is the current assets minus current liabilities. It tells us if the company has more current assets to meet current liabilities in the short term. Working capital is directly related to the company's current financial health. By dividing working capital by total assets, the ratio tells us the company's efficiency in utilising assets to gain substanstial operational liquidity. Hence, it is an important feature in predicting bankruptcy.\n",
    "\n",
    "`Altman_X2` is the retained earnings/total assets. A company may face bankruptcy if they are not able to generate enough sales or revenue to cover up losses currently. Any profitablity in the future may not be enough to cover the losses accumulated over the years. \n",
    "\n",
    "`Altman_X4` is the reversed gearing ratio (market value of equity/debt). Less debt means less leverage (hence less obligations for debt repayments and interest payments). Equity is a cheaper way of financing as there will be less outflow of the company if there are no dividends payouts. Hence, it is an important feature in predicting bankruptcy.\n",
    "\n",
    "However, I feel that `Altman_X2` (though important) may not be the most accuracy in predicting bankruptcy. For a start-up that is still growing, they may incur a lot of initial capital expenditure, R&D expenses and other start-up costs, hence affecting their bottomline. While they may produce losses in the initial few years, thus hurting retained earnings, this is not accurate as the company may actually start to become profitable and show significant signs of growth. Due to poor retained earning, their `Altman_X2` factor is low and inaccurately predicting bankruptcy."
   ]
  }
 ],
 "metadata": {
  "kernelspec": {
   "display_name": "Python 3",
   "language": "python",
   "name": "python3"
  },
  "language_info": {
   "codemirror_mode": {
    "name": "ipython",
    "version": 3
   },
   "file_extension": ".py",
   "mimetype": "text/x-python",
   "name": "python",
   "nbconvert_exporter": "python",
   "pygments_lexer": "ipython3",
   "version": "3.7.6"
  }
 },
 "nbformat": 4,
 "nbformat_minor": 4
}
